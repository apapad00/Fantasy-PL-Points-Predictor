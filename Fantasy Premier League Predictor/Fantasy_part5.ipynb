{
 "cells": [
  {
   "cell_type": "markdown",
   "id": "147ac6b9",
   "metadata": {},
   "source": [
    "# Fantasy Premier League Project "
   ]
  },
  {
   "cell_type": "markdown",
   "id": "88d1a861-1a35-46c8-8906-b3e6241adcf5",
   "metadata": {},
   "source": [
    "# ROLLING STATISTICS, DEFENDERS, PCA/SVD"
   ]
  },
  {
   "cell_type": "markdown",
   "id": "0c324ddc",
   "metadata": {},
   "source": [
    "### Libraries "
   ]
  },
  {
   "cell_type": "code",
   "execution_count": 1,
   "id": "e0eb802d",
   "metadata": {
    "tags": []
   },
   "outputs": [],
   "source": [
    "import glob\n",
    "import pandas as pd\n",
    "import seaborn as sns\n",
    "import numpy as np\n",
    "import category_encoders as ce\n",
    "import matplotlib.pyplot as plt\n",
    "from sklearn.preprocessing import RobustScaler\n",
    "from mlxtend.feature_selection import SequentialFeatureSelector as SFS"
   ]
  },
  {
   "cell_type": "markdown",
   "id": "e521e3bc",
   "metadata": {},
   "source": [
    "### File reading"
   ]
  },
  {
   "cell_type": "code",
   "execution_count": 2,
   "id": "30c9b51a-572b-407b-9942-cbbe65204897",
   "metadata": {
    "tags": []
   },
   "outputs": [
    {
     "name": "stderr",
     "output_type": "stream",
     "text": [
      "C:\\Users\\Joseph\\AppData\\Local\\Temp\\ipykernel_908\\1658855045.py:4: FutureWarning: The behavior of DataFrame concatenation with empty or all-NA entries is deprecated. In a future version, this will no longer exclude empty or all-NA columns when determining the result dtypes. To retain the old behavior, exclude the relevant entries before the concat operation.\n",
      "  fpl_23= pd.concat([pd.read_csv(f) for f in fpl_files_23 ], ignore_index=True)\n"
     ]
    }
   ],
   "source": [
    "#list all csv files\n",
    "\n",
    "fpl_files_23 = glob.glob('gw*_1.{}'.format('csv')) #fpl 2022-23 files\n",
    "fpl_23= pd.concat([pd.read_csv(f) for f in fpl_files_23 ], ignore_index=True)"
   ]
  },
  {
   "cell_type": "markdown",
   "id": "e49bd99c",
   "metadata": {},
   "source": [
    "## PREPROCESSING"
   ]
  },
  {
   "cell_type": "code",
   "execution_count": 3,
   "id": "b65724d2-e5d3-4ee4-9059-26049f25d1f3",
   "metadata": {
    "tags": []
   },
   "outputs": [],
   "source": [
    "fpl_23 = fpl_23[fpl_23['position']=='DEF']"
   ]
  },
  {
   "cell_type": "code",
   "execution_count": 4,
   "id": "63622027",
   "metadata": {
    "scrolled": true,
    "tags": []
   },
   "outputs": [],
   "source": [
    "#We transform all the strings which represent numeric values, to floats.\n",
    "\n",
    "fpl_23[['value','total_points','assists','bonus','bps','clean_sheets','element','minutes','goals_conceded','goals_scored','own_goals','penalties_missed','penalties_saved','red_cards','saves','selected','starts','team_a_score','team_h_score','transfers_balance','transfers_in','transfers_out',\"yellow_cards\"]]=fpl_23[['value','total_points','assists','bonus','bps','clean_sheets','element','minutes','goals_conceded','goals_scored','own_goals','penalties_missed','penalties_saved','red_cards','saves','selected','starts','team_a_score','team_h_score','transfers_balance','transfers_in','transfers_out',\"yellow_cards\"]].astype(float)"
   ]
  },
  {
   "cell_type": "markdown",
   "id": "68f550a7",
   "metadata": {},
   "source": [
    "## Checking for missing or NA values."
   ]
  },
  {
   "cell_type": "code",
   "execution_count": 5,
   "id": "090d053a-adba-426b-b026-3229bba74cb3",
   "metadata": {
    "tags": []
   },
   "outputs": [],
   "source": [
    "# First, group by 'name' and 'round' and then take the mean of the matches for players with more than one match in a gameweek\n",
    "fpl_23 = fpl_23.groupby(['name', 'round']).mean(numeric_only = True).reset_index()\n",
    "\n",
    "# Now, you can set the index to the aggregated DataFrame\n",
    "fpl_23.set_index(['name', 'round'], inplace=True)\n",
    "\n",
    "# And sort the DataFrame by 'name' and 'round' again\n",
    "fpl_23 = fpl_23.sort_values(by=['name', 'round'])"
   ]
  },
  {
   "cell_type": "code",
   "execution_count": 6,
   "id": "1736a7ac-0ade-4fc9-9bb6-fbf855367f3d",
   "metadata": {
    "tags": []
   },
   "outputs": [
    {
     "data": {
      "text/plain": [
       "(                        xP  assists  bonus   bps  clean_sheets  creativity  \\\n",
       " name            round                                                        \n",
       " Aaron Cresswell 1      1.3      0.0    0.0  16.0           0.0        18.7   \n",
       "                 2      2.0      0.0    0.0  14.0           0.0        65.8   \n",
       "                 3      1.0      0.0    0.0   6.0           0.0        38.8   \n",
       "                 4      2.2      0.0    0.0  26.0           1.0         5.8   \n",
       "                 5      1.7      0.0    0.0  16.0           0.0         1.5   \n",
       " ...                    ...      ...    ...   ...           ...         ...   \n",
       " Çaglar Söyüncü  34     2.8      0.0    3.0  30.0           0.0         0.4   \n",
       "                 35     2.8      0.0    0.0  12.0           0.0         0.8   \n",
       "                 36     0.0      0.0    0.0   0.0           0.0         0.0   \n",
       "                 37     0.0      0.0    0.0   0.0           0.0         0.0   \n",
       "                 38     0.0      0.0    0.0   0.0           0.0         0.0   \n",
       " \n",
       "                        element  expected_assists  expected_goal_involvements  \\\n",
       " name            round                                                          \n",
       " Aaron Cresswell 1        457.0              0.00                        0.00   \n",
       "                 2        457.0              0.00                        0.00   \n",
       "                 3        457.0              0.00                        0.00   \n",
       "                 4        457.0              0.00                        0.00   \n",
       "                 5        457.0              0.00                        0.00   \n",
       " ...                        ...               ...                         ...   \n",
       " Çaglar Söyüncü  34       267.0              0.01                        0.11   \n",
       "                 35       267.0              0.00                        0.00   \n",
       "                 36       267.0              0.00                        0.00   \n",
       "                 37       267.0              0.00                        0.00   \n",
       "                 38       267.0              0.00                        0.00   \n",
       " \n",
       "                        expected_goals  ...  prev_transfers_in  \\\n",
       " name            round                  ...                      \n",
       " Aaron Cresswell 1                 0.0  ...                NaN   \n",
       "                 2                 0.0  ...                0.0   \n",
       "                 3                 0.0  ...            45044.0   \n",
       "                 4                 0.0  ...            20572.0   \n",
       "                 5                 0.0  ...             5437.0   \n",
       " ...                               ...  ...                ...   \n",
       " Çaglar Söyüncü  34                0.1  ...              563.0   \n",
       "                 35                0.0  ...              339.0   \n",
       "                 36                0.0  ...             3328.0   \n",
       "                 37                0.0  ...              518.0   \n",
       "                 38                0.0  ...              162.0   \n",
       " \n",
       "                        season_transfers_out  recent_transfers_out  \\\n",
       " name            round                                               \n",
       " Aaron Cresswell 1                       NaN                   NaN   \n",
       "                 2                  0.000000              0.000000   \n",
       "                 3              11767.500000          11767.500000   \n",
       "                 4              21173.666667          21173.666667   \n",
       "                 5              30530.000000          30530.000000   \n",
       " ...                                     ...                   ...   \n",
       " Çaglar Söyüncü  34               290.062500            150.250000   \n",
       "                 35               284.812500            201.000000   \n",
       "                 36               279.812500            238.250000   \n",
       "                 37               296.875000            418.500000   \n",
       "                 38               358.625000            728.250000   \n",
       " \n",
       "                        prev_transfers_out  season_value  recent_value  \\\n",
       " name            round                                                   \n",
       " Aaron Cresswell 1                     NaN           NaN           NaN   \n",
       "                 2                     0.0          50.0          50.0   \n",
       "                 3                 23535.0          50.0          50.0   \n",
       "                 4                 39986.0          50.0          50.0   \n",
       "                 5                 58599.0          50.0          50.0   \n",
       " ...                                   ...           ...           ...   \n",
       " Çaglar Söyüncü  34                  143.0          42.0          42.0   \n",
       "                 35                  366.0          42.0          42.0   \n",
       "                 36                  307.0          42.0          42.0   \n",
       "                 37                  858.0          42.0          42.0   \n",
       "                 38                 1382.0          42.0          42.0   \n",
       " \n",
       "                        prev_value  season_yellow_cards  recent_yellow_cards  \\\n",
       " name            round                                                         \n",
       " Aaron Cresswell 1             NaN                  NaN                  NaN   \n",
       "                 2            50.0             0.000000             0.000000   \n",
       "                 3            50.0             0.000000             0.000000   \n",
       "                 4            50.0             0.333333             0.333333   \n",
       "                 5            50.0             0.250000             0.250000   \n",
       " ...                           ...                  ...                  ...   \n",
       " Çaglar Söyüncü  34           42.0             0.125000             0.250000   \n",
       "                 35           42.0             0.125000             0.250000   \n",
       "                 36           42.0             0.125000             0.000000   \n",
       "                 37           42.0             0.125000             0.000000   \n",
       "                 38           42.0             0.125000             0.000000   \n",
       " \n",
       "                        prev_yellow_cards  \n",
       " name            round                     \n",
       " Aaron Cresswell 1                    NaN  \n",
       "                 2                    0.0  \n",
       "                 3                    0.0  \n",
       "                 4                    1.0  \n",
       "                 5                    0.0  \n",
       " ...                                  ...  \n",
       " Çaglar Söyüncü  34                   0.0  \n",
       "                 35                   0.0  \n",
       "                 36                   0.0  \n",
       "                 37                   0.0  \n",
       "                 38                   0.0  \n",
       " \n",
       " [8621 rows x 128 columns],\n",
       " ['season_xP',\n",
       "  'recent_xP',\n",
       "  'prev_xP',\n",
       "  'season_assists',\n",
       "  'recent_assists',\n",
       "  'prev_assists',\n",
       "  'season_bonus',\n",
       "  'recent_bonus',\n",
       "  'prev_bonus',\n",
       "  'season_bps',\n",
       "  'recent_bps',\n",
       "  'prev_bps',\n",
       "  'season_clean_sheets',\n",
       "  'recent_clean_sheets',\n",
       "  'prev_clean_sheets',\n",
       "  'season_creativity',\n",
       "  'recent_creativity',\n",
       "  'prev_creativity',\n",
       "  'season_element',\n",
       "  'recent_element',\n",
       "  'prev_element',\n",
       "  'season_expected_assists',\n",
       "  'recent_expected_assists',\n",
       "  'prev_expected_assists',\n",
       "  'season_expected_goal_involvements',\n",
       "  'recent_expected_goal_involvements',\n",
       "  'prev_expected_goal_involvements',\n",
       "  'season_expected_goals',\n",
       "  'recent_expected_goals',\n",
       "  'prev_expected_goals',\n",
       "  'season_expected_goals_conceded',\n",
       "  'recent_expected_goals_conceded',\n",
       "  'prev_expected_goals_conceded',\n",
       "  'season_goals_conceded',\n",
       "  'recent_goals_conceded',\n",
       "  'prev_goals_conceded',\n",
       "  'season_goals_scored',\n",
       "  'recent_goals_scored',\n",
       "  'prev_goals_scored',\n",
       "  'season_ict_index',\n",
       "  'recent_ict_index',\n",
       "  'prev_ict_index',\n",
       "  'season_influence',\n",
       "  'recent_influence',\n",
       "  'prev_influence',\n",
       "  'season_minutes',\n",
       "  'recent_minutes',\n",
       "  'prev_minutes',\n",
       "  'season_own_goals',\n",
       "  'recent_own_goals',\n",
       "  'prev_own_goals',\n",
       "  'season_penalties_missed',\n",
       "  'recent_penalties_missed',\n",
       "  'prev_penalties_missed',\n",
       "  'season_penalties_saved',\n",
       "  'recent_penalties_saved',\n",
       "  'prev_penalties_saved',\n",
       "  'season_red_cards',\n",
       "  'recent_red_cards',\n",
       "  'prev_red_cards',\n",
       "  'season_saves',\n",
       "  'recent_saves',\n",
       "  'prev_saves',\n",
       "  'season_selected',\n",
       "  'recent_selected',\n",
       "  'prev_selected',\n",
       "  'season_starts',\n",
       "  'recent_starts',\n",
       "  'prev_starts',\n",
       "  'season_team_a_score',\n",
       "  'recent_team_a_score',\n",
       "  'prev_team_a_score',\n",
       "  'season_team_h_score',\n",
       "  'recent_team_h_score',\n",
       "  'prev_team_h_score',\n",
       "  'season_threat',\n",
       "  'recent_threat',\n",
       "  'prev_threat',\n",
       "  'season_total_points',\n",
       "  'recent_total_points',\n",
       "  'prev_total_points',\n",
       "  'season_transfers_balance',\n",
       "  'recent_transfers_balance',\n",
       "  'prev_transfers_balance',\n",
       "  'season_transfers_in',\n",
       "  'recent_transfers_in',\n",
       "  'prev_transfers_in',\n",
       "  'season_transfers_out',\n",
       "  'recent_transfers_out',\n",
       "  'prev_transfers_out',\n",
       "  'season_value',\n",
       "  'recent_value',\n",
       "  'prev_value',\n",
       "  'season_yellow_cards',\n",
       "  'recent_yellow_cards',\n",
       "  'prev_yellow_cards',\n",
       "  'season_total_points',\n",
       "  'recent_total_points',\n",
       "  'prev_total_points'])"
      ]
     },
     "execution_count": 6,
     "metadata": {},
     "output_type": "execute_result"
    }
   ],
   "source": [
    "def rolling_average(series, window):\n",
    "    return series.rolling(min_periods=1, window=window).mean().shift(1)\n",
    "\n",
    "def get_player_averages(df, stats):\n",
    "    \"\"\"\n",
    "    Estimate player averages for all stats and FanDuel point histories,\n",
    "    for season-to-date, last 4 weeks, and previous week\n",
    "    \"\"\"\n",
    "    feature_names = []\n",
    "    for stat in stats + ['total_points']:\n",
    "        # Make sure the stat is a column in the dataframe\n",
    "        if stat in df.columns:\n",
    "            grouped = df.groupby('name')[stat]  # Group by name\n",
    "            df['season_{}'.format(stat)] = grouped.transform(lambda x: rolling_average(x, 16))\n",
    "            df['recent_{}'.format(stat)] = grouped.transform(lambda x: rolling_average(x, 4))\n",
    "            df['prev_{}'.format(stat)] = grouped.transform(lambda x: rolling_average(x, 1))\n",
    "            feature_names += [time + \"_\" + stat for time in ['season', 'recent', 'prev']]\n",
    "        else:\n",
    "            raise KeyError(f\"The stat '{stat}' was not found in the dataframe.\")\n",
    "    return df, feature_names\n",
    "\n",
    "# Example usage\n",
    "stats = ['xP', 'assists', 'bonus', 'bps', 'clean_sheets', 'creativity',\n",
    "       'element', 'expected_assists', 'expected_goal_involvements',\n",
    "       'expected_goals', 'expected_goals_conceded', 'goals_conceded',\n",
    "       'goals_scored', 'ict_index', 'influence', 'minutes', 'own_goals',\n",
    "       'penalties_missed', 'penalties_saved', 'red_cards', 'saves', 'selected',\n",
    "       'starts', 'team_a_score', 'team_h_score', 'threat', 'total_points',\n",
    "       'transfers_balance', 'transfers_in', 'transfers_out', 'value',\n",
    "       'yellow_cards']\n",
    "# try:\n",
    "#     fpl_23, feature_names = get_player_averages(fpl_23, stats)\n",
    "#     print(fpl_23[['season_total_points', 'recent_total_points', 'prev_total_points', 'total_points']].head())\n",
    "# except KeyError as e:\n",
    "#     print(e)\n",
    "\n",
    "get_player_averages(fpl_23, stats)\n",
    "fpl_23"
   ]
  },
  {
   "cell_type": "markdown",
   "id": "6f23fc3e",
   "metadata": {},
   "source": [
    "### Since we dont care much about any players with barely any game time we tried removing them."
   ]
  },
  {
   "cell_type": "code",
   "execution_count": 7,
   "id": "03b8a3c3-6643-4029-b5db-dee751dc97be",
   "metadata": {
    "tags": []
   },
   "outputs": [],
   "source": [
    "fpl_23.reset_index(inplace=True)"
   ]
  },
  {
   "cell_type": "code",
   "execution_count": 8,
   "id": "d089739b-4e21-48f4-bc34-be2359439e0d",
   "metadata": {
    "tags": []
   },
   "outputs": [],
   "source": [
    "# We repeat the same process as before\n",
    "player_means = fpl_23.groupby('name')['minutes'].mean()\n",
    "\n",
    "# Filter for players with mean minutes fewer than 60\n",
    "players_with_mean_zero = player_means[player_means <60]\n",
    "\n",
    "# Remove players with mean minutes fewer than 60 from the original DataFrame\n",
    "fpl_23 = fpl_23[~fpl_23['name'].isin(players_with_mean_zero.index)]"
   ]
  },
  {
   "cell_type": "markdown",
   "id": "27f76549",
   "metadata": {},
   "source": [
    "#### Interquaretile Range Method (IQR)"
   ]
  },
  {
   "cell_type": "code",
   "execution_count": 9,
   "id": "87aebfed-f072-4bf3-a6be-22537a13ef97",
   "metadata": {
    "tags": []
   },
   "outputs": [
    {
     "name": "stdout",
     "output_type": "stream",
     "text": [
      "The Upper whisker is 11.0 and the Lower whisker is -3.0.\n"
     ]
    }
   ],
   "source": [
    "Q1 = fpl_23['total_points'].quantile(0.25)\n",
    "Q3 = fpl_23['total_points'].quantile(0.75)\n",
    "IQR = Q3-Q1\n",
    "upper_whisker = min(Q3 + 1.5*IQR, max(fpl_23['total_points']))\n",
    "lower_whisker = max(Q1 - 1.5*IQR, min(fpl_23['total_points']))\n",
    "print(\"The Upper whisker is {} and the Lower whisker is {}.\".format(upper_whisker,lower_whisker))"
   ]
  },
  {
   "cell_type": "markdown",
   "id": "cd37af9b",
   "metadata": {},
   "source": [
    "### This is our 4 datasets: \n",
    "- Dataset with outliers\n",
    "- Dataset without outliers\n",
    "- Scaled Dataset with outliers\n",
    "- Scaled Dataset without outliers"
   ]
  },
  {
   "cell_type": "code",
   "execution_count": 10,
   "id": "b1b93d44-3e33-4ee4-9217-87f4ba164783",
   "metadata": {
    "tags": []
   },
   "outputs": [
    {
     "name": "stderr",
     "output_type": "stream",
     "text": [
      "C:\\Users\\Joseph\\AppData\\Local\\Temp\\ipykernel_908\\2035911875.py:1: SettingWithCopyWarning: \n",
      "A value is trying to be set on a copy of a slice from a DataFrame\n",
      "\n",
      "See the caveats in the documentation: https://pandas.pydata.org/pandas-docs/stable/user_guide/indexing.html#returning-a-view-versus-a-copy\n",
      "  fpl_23.drop(columns = ['xP', 'assists', 'bonus', 'bps', 'clean_sheets',\n"
     ]
    }
   ],
   "source": [
    "fpl_23.drop(columns = ['xP', 'assists', 'bonus', 'bps', 'clean_sheets',\n",
    "       'creativity', 'element', 'expected_assists',\n",
    "       'expected_goal_involvements', 'expected_goals',\n",
    "       'expected_goals_conceded', 'goals_conceded', 'goals_scored',\n",
    "       'ict_index', 'influence', 'minutes', 'own_goals', 'penalties_missed',\n",
    "       'penalties_saved', 'red_cards', 'saves', 'selected', 'starts',\n",
    "       'team_a_score', 'team_h_score', 'threat',\n",
    "       'transfers_balance', 'transfers_in', 'transfers_out', 'value',\n",
    "       'yellow_cards'], inplace=True, axis=1)"
   ]
  },
  {
   "cell_type": "code",
   "execution_count": 11,
   "id": "a9500e2d-dadc-40b8-bf78-dabf85f3dbe2",
   "metadata": {
    "tags": []
   },
   "outputs": [
    {
     "name": "stderr",
     "output_type": "stream",
     "text": [
      "C:\\Users\\Joseph\\AppData\\Local\\Temp\\ipykernel_908\\3398245620.py:1: SettingWithCopyWarning: \n",
      "A value is trying to be set on a copy of a slice from a DataFrame\n",
      "\n",
      "See the caveats in the documentation: https://pandas.pydata.org/pandas-docs/stable/user_guide/indexing.html#returning-a-view-versus-a-copy\n",
      "  fpl_23.fillna(0,inplace=True)\n"
     ]
    }
   ],
   "source": [
    "fpl_23.fillna(0,inplace=True)"
   ]
  },
  {
   "cell_type": "code",
   "execution_count": 12,
   "id": "54b2b2d3",
   "metadata": {
    "tags": []
   },
   "outputs": [],
   "source": [
    "#Dataset without outliers\n",
    "fpl_23_no_outl = fpl_23[ (fpl_23['total_points'] >= lower_whisker) & (fpl_23['total_points'] <= upper_whisker) ]\n",
    "\n",
    "# Scaled dataset with outliers\n",
    "fpl_23_scaled = fpl_23.select_dtypes(include=['number'])\n",
    "fpl_23_scaled = fpl_23_scaled.drop(['total_points'], axis=1)\n",
    "rscaler = RobustScaler()\n",
    "\n",
    "robustRescaledX = rscaler.fit_transform(fpl_23_scaled)\n",
    "fpl_23_scaled = pd.DataFrame(robustRescaledX, columns=fpl_23_scaled.columns)\n",
    "cols_to_add = ['total_points']\n",
    "\n",
    "for col in cols_to_add:\n",
    "    fpl_23_scaled[col] = fpl_23[col].reset_index(drop=True)\n",
    "\n",
    "\n",
    "# Scaled dataset without outliers\n",
    "fpl_23_scaled_no_outl = fpl_23_no_outl.select_dtypes(include=['number'])\n",
    "fpl_23_scaled_no_outl = fpl_23_scaled_no_outl.drop(['total_points'], axis=1)\n",
    "rscaler2 = RobustScaler()\n",
    "\n",
    "robustRescaledX2 = rscaler2.fit_transform(fpl_23_scaled_no_outl)\n",
    "fpl_23_scaled_no_outl = pd.DataFrame(robustRescaledX2, columns=fpl_23_scaled_no_outl.columns)\n",
    "cols_to_add = ['total_points']\n",
    "\n",
    "for col in cols_to_add:\n",
    "    fpl_23_scaled_no_outl[col] = fpl_23_no_outl[col].reset_index(drop=True)"
   ]
  },
  {
   "cell_type": "code",
   "execution_count": null,
   "id": "179b0e39-2da2-46dd-a6e4-6b97d96fb89e",
   "metadata": {},
   "outputs": [],
   "source": []
  },
  {
   "cell_type": "code",
   "execution_count": null,
   "id": "bc39ff8a-e23d-4c7a-a61c-c5553bc6f665",
   "metadata": {},
   "outputs": [],
   "source": []
  },
  {
   "cell_type": "code",
   "execution_count": 13,
   "id": "5f95c6ee",
   "metadata": {
    "tags": []
   },
   "outputs": [],
   "source": [
    "x=fpl_23.select_dtypes(include=['number'])\n",
    "x=x.drop(columns=['total_points'])\n",
    "y=fpl_23['total_points']"
   ]
  },
  {
   "cell_type": "code",
   "execution_count": 14,
   "id": "f0b8474a",
   "metadata": {
    "tags": []
   },
   "outputs": [],
   "source": [
    "x_no_outl=fpl_23_no_outl.select_dtypes(include=['number'])\n",
    "x_no_outl=x_no_outl.drop(columns=['total_points'])\n",
    "y_no_outl=fpl_23_no_outl['total_points']"
   ]
  },
  {
   "cell_type": "code",
   "execution_count": 15,
   "id": "ec867311",
   "metadata": {
    "tags": []
   },
   "outputs": [],
   "source": [
    "x_scaled=fpl_23_scaled.select_dtypes(include=['number'])\n",
    "x_scaled=x_scaled.drop(columns=['total_points'])\n",
    "# we use the y for our target value here"
   ]
  },
  {
   "cell_type": "code",
   "execution_count": 16,
   "id": "36c486f5",
   "metadata": {
    "tags": []
   },
   "outputs": [],
   "source": [
    "x_scaled_no_outl=fpl_23_scaled_no_outl.select_dtypes(include=['number'])\n",
    "x_scaled_no_outl=x_scaled_no_outl.drop(columns=['total_points'])\n",
    "# we use the y_no_outl for our target value here"
   ]
  },
  {
   "cell_type": "markdown",
   "id": "a5d21a9a",
   "metadata": {},
   "source": [
    "#### Classification\n",
    "Class 1: below or equal 0 points   \n",
    "Class 2: 1 points    \n",
    "Class 3: 2 points  \n",
    "Class 4: from 3 to 6 points  \n",
    "Class 5: from 7 to 9 points  \n",
    "Class 6: from 10 points and above"
   ]
  },
  {
   "cell_type": "code",
   "execution_count": 17,
   "id": "99222acb-bebb-45df-9839-2eb89fe3978b",
   "metadata": {
    "tags": []
   },
   "outputs": [],
   "source": [
    "# new Y for classification for the dataset with outliers\n",
    "ycl = pd.cut(y, bins = [-np.inf, 0, 1, 2, 6, 9, np.inf], labels =['Class 1','Class 2','Class 3','Class 4','Class 5','Class 6'])"
   ]
  },
  {
   "cell_type": "code",
   "execution_count": 18,
   "id": "c77e9aac-c4c7-4e2f-a363-e512612ce0fa",
   "metadata": {
    "tags": []
   },
   "outputs": [],
   "source": [
    "# new Y for classification for the dataset without outliers\n",
    "y_no_outl_cl = pd.cut(y_no_outl, bins = [-np.inf, 0, 1, 2, 6, 9, np.inf], labels =['Class 1','Class 2','Class 3','Class 4','Class 5','Class 6'])"
   ]
  },
  {
   "cell_type": "markdown",
   "id": "4d6650e6-5582-4fc9-92b7-fee2619f3ce8",
   "metadata": {},
   "source": [
    "# PCA"
   ]
  },
  {
   "cell_type": "code",
   "execution_count": 19,
   "id": "4753dda1-5cbd-4713-9f49-10491121444f",
   "metadata": {
    "tags": []
   },
   "outputs": [
    {
     "name": "stdout",
     "output_type": "stream",
     "text": [
      "TruncatedSVD explained variance ratio (first first  30 components components): [0.34692017 0.1882435  0.09285717 0.07116816 0.05921621 0.03172502\n",
      " 0.02694961 0.02533055 0.01921266 0.01703434 0.01337067 0.01211395\n",
      " 0.00906276 0.00826045 0.00749229 0.00654419 0.00559065 0.00535172\n",
      " 0.00454245 0.00461693 0.00434443 0.00404229 0.00376675 0.0033524\n",
      " 0.00300529 0.00274595 0.00201218 0.00194558 0.00181762 0.00161571]\n",
      "Total variance explained by created features: 98.42516407272292 %\n"
     ]
    },
    {
     "data": {
      "image/png": "[encoded data removed]",
      "text/plain": [
       "<Figure size 600x400 with 1 Axes>"
      ]
     },
     "metadata": {},
     "output_type": "display_data"
    },
    {
     "name": "stdout",
     "output_type": "stream",
     "text": [
      "PCA explained variance ratio (first first  30 components components): [0.35577625 0.18838101 0.09398423 0.07015884 0.05577305 0.03194297\n",
      " 0.02614558 0.02404387 0.0192126  0.01650595 0.01296365 0.01171695\n",
      " 0.00888689 0.00812492 0.00696368 0.00654406 0.00557996 0.00532095\n",
      " 0.0046171  0.00438559 0.00411063 0.00388392 0.00369025 0.0032844\n",
      " 0.00300275 0.00266543 0.00199346 0.00192527 0.00180676 0.00160863]\n",
      "Total variance explained by created features: 98.49995949602595 %\n"
     ]
    },
    {
     "data": {
      "image/png": "[encoded data removed]",
      "text/plain": [
       "<Figure size 600x400 with 1 Axes>"
      ]
     },
     "metadata": {},
     "output_type": "display_data"
    }
   ],
   "source": [
    "# Truncated SVD\n",
    "from sklearn.decomposition import TruncatedSVD\n",
    "# PCA\n",
    "from sklearn.decomposition import PCA\n",
    "# Linear Discriminant Analysis\n",
    "from sklearn.discriminant_analysis import LinearDiscriminantAnalysis\n",
    "\n",
    "# function that plots the variance explained by each new feature\n",
    "def print_variance_explained_plot(obj, n_components):\n",
    "    cum_var_exp = np.cumsum(obj.explained_variance_ratio_)\n",
    "    fig, ax = plt.subplots(figsize=(6, 4))\n",
    "    bars = ax.bar(range(n_components), obj.explained_variance_ratio_, alpha=0.5, align='center',\n",
    "                label='individual explained variance')\n",
    "    # show percentage of explained variance on top of each bar\n",
    "    for bar in bars:\n",
    "        height = bar.get_height()\n",
    "        ax.text(bar.get_x() + bar.get_width()/2., 1.05*height, '%.2f%%' % (height*100), \n",
    "                ha='center', va='bottom')\n",
    "    plt.step(range(n_components), cum_var_exp, where='mid',\n",
    "                 label='cumulative explained variance')\n",
    "    plt.ylabel('Explained variance ratio')\n",
    "    plt.xlabel('Principal components')\n",
    "    plt.xticks( range(n_components) )\n",
    "    plt.grid(True)\n",
    "    plt.legend(loc='best')\n",
    "    plt.tight_layout()\n",
    "    plt.show()\n",
    "\n",
    "def print_2d_scatter_plot(features, target, title):\n",
    "    newDf=pd.DataFrame(features, columns=['Feature '+str(i) for i in range(features.shape[1])])\n",
    "    newDf['target']=target\n",
    "    sns.scatterplot(data=newDf, x='Feature 0', y='Feature 1', hue='target').set(title=title)\n",
    "\n",
    "# number of components (new features) to be extracted by SVD and PCA. Set to 6.\n",
    "num_of_components = 30\n",
    "\n",
    "# create the TruncatedSVD object with n_components equal to the num_of_components variable above\n",
    "tsvd = TruncatedSVD(num_of_components)\n",
    "# train tsvd object and transform X_scaled to create the new dataset based on the newly created features\n",
    "fpl_23_tsvd = tsvd.fit_transform(x_scaled)\n",
    "# Percentage of variance explained for each components\n",
    "print('TruncatedSVD explained variance ratio (first first ',num_of_components, 'components components): %s'\n",
    "      % str(tsvd.explained_variance_ratio_))\n",
    "print('Total variance explained by created features:', sum(tsvd.explained_variance_ratio_)*100, '%')\n",
    "# print explained variance plot\n",
    "print_variance_explained_plot(tsvd,num_of_components)\n",
    "\n",
    "# create the PCA object with n_components equal to the num_of_components variable above\n",
    "pca = PCA(n_components=num_of_components)\n",
    "# train pca object and transform X_scaled to create the new dataset based on the newly created features\n",
    "fpl_23_pca = pca.fit_transform(x_scaled)\n",
    "print('PCA explained variance ratio (first first ',num_of_components, 'components components): %s'\n",
    "      % str(pca.explained_variance_ratio_))\n",
    "print('Total variance explained by created features:', sum(pca.explained_variance_ratio_)*100, '%')\n",
    "# print explained variance plot\n",
    "print_variance_explained_plot(pca,num_of_components)"
   ]
  },
  {
   "cell_type": "code",
   "execution_count": 20,
   "id": "52764dfd-5082-4244-b56a-09184e2bb884",
   "metadata": {
    "tags": []
   },
   "outputs": [],
   "source": [
    "fpl_23_tsvd = pd.DataFrame(fpl_23_tsvd)"
   ]
  },
  {
   "cell_type": "code",
   "execution_count": 21,
   "id": "300f512c-ca1d-43de-a77d-6bae64ee1b1c",
   "metadata": {
    "tags": []
   },
   "outputs": [],
   "source": [
    "fpl_23_pca = pd.DataFrame(fpl_23_pca)"
   ]
  },
  {
   "cell_type": "markdown",
   "id": "fed7599a",
   "metadata": {},
   "source": [
    "#### Feature selection - Classifcation"
   ]
  },
  {
   "cell_type": "code",
   "execution_count": 23,
   "id": "873fc394-04d8-46f6-affe-a9fbba0289c9",
   "metadata": {
    "tags": []
   },
   "outputs": [
    {
     "name": "stdout",
     "output_type": "stream",
     "text": [
      "best combination (ACC: 0.223): (0, 2, 3, 4, 11, 12, 13, 14, 18, 19, 20, 25)\n",
      "\n",
      "all subsets:\n",
      " {1: {'feature_idx': (14,), 'cv_scores': array([0.18240669, 0.21125478, 0.19606142, 0.20637911, 0.21298808]), 'avg_score': 0.20181801641774047, 'feature_names': (14,)}, 2: {'feature_idx': (2, 14), 'cv_scores': array([0.2031511 , 0.18593836, 0.1500086 , 0.23499775, 0.23674348]), 'avg_score': 0.2021678590789307, 'feature_names': (2, 14)}, 3: {'feature_idx': (2, 11, 14), 'cv_scores': array([0.17584927, 0.2509981 , 0.20623116, 0.1995197 , 0.2154491 ]), 'avg_score': 0.20960946499516755, 'feature_names': (2, 11, 14)}, 4: {'feature_idx': (2, 11, 14, 25), 'cv_scores': array([0.20137668, 0.24811202, 0.20595871, 0.22090159, 0.19419437]), 'avg_score': 0.21410867428345237, 'feature_names': (2, 11, 14, 25)}, 5: {'feature_idx': (2, 11, 14, 18, 25), 'cv_scores': array([0.22496225, 0.20834961, 0.18166891, 0.20229546, 0.23466209]), 'avg_score': 0.21038766152761146, 'feature_names': (2, 11, 14, 18, 25)}, 6: {'feature_idx': (2, 4, 11, 14, 18, 25), 'cv_scores': array([0.21953215, 0.20454279, 0.19015856, 0.21852048, 0.2158539 ]), 'avg_score': 0.20972157715074102, 'feature_names': (2, 4, 11, 14, 18, 25)}, 7: {'feature_idx': (2, 4, 11, 14, 18, 19, 25), 'cv_scores': array([0.20735815, 0.20910611, 0.19064523, 0.21935641, 0.22555491]), 'avg_score': 0.21040416231434023, 'feature_names': (2, 4, 11, 14, 18, 19, 25)}, 8: {'feature_idx': (0, 2, 4, 11, 14, 18, 19, 25), 'cv_scores': array([0.21228245, 0.20824973, 0.16890176, 0.22360166, 0.22408148]), 'avg_score': 0.20742341775738166, 'feature_names': (0, 2, 4, 11, 14, 18, 19, 25)}, 9: {'feature_idx': (0, 2, 3, 4, 11, 14, 18, 19, 25), 'cv_scores': array([0.250208  , 0.20925246, 0.17192476, 0.21043576, 0.22294832]), 'avg_score': 0.21295385873186873, 'feature_names': (0, 2, 3, 4, 11, 14, 18, 19, 25)}, 10: {'feature_idx': (0, 2, 3, 4, 11, 13, 14, 18, 19, 25), 'cv_scores': array([0.22605163, 0.21634665, 0.20386687, 0.21546008, 0.2145879 ]), 'avg_score': 0.2152626262268628, 'feature_names': (0, 2, 3, 4, 11, 13, 14, 18, 19, 25)}, 11: {'feature_idx': (0, 2, 3, 4, 11, 13, 14, 18, 19, 20, 25), 'cv_scores': array([0.20795455, 0.20282932, 0.1929891 , 0.22235446, 0.23415369]), 'avg_score': 0.21205622373883265, 'feature_names': (0, 2, 3, 4, 11, 13, 14, 18, 19, 20, 25)}, 12: {'feature_idx': (0, 2, 3, 4, 11, 12, 13, 14, 18, 19, 20, 25), 'cv_scores': array([0.22061341, 0.23661996, 0.20218997, 0.21934653, 0.23515609]), 'avg_score': 0.2227851907056734, 'feature_names': (0, 2, 3, 4, 11, 12, 13, 14, 18, 19, 20, 25)}, 13: {'feature_idx': (0, 2, 3, 4, 10, 11, 12, 13, 14, 18, 19, 20, 25), 'cv_scores': array([0.22070918, 0.21753734, 0.19496978, 0.21134397, 0.25137338]), 'avg_score': 0.21918672782687887, 'feature_names': (0, 2, 3, 4, 10, 11, 12, 13, 14, 18, 19, 20, 25)}, 14: {'feature_idx': (0, 2, 3, 4, 10, 11, 12, 13, 14, 18, 19, 20, 22, 25), 'cv_scores': array([0.21689234, 0.22511807, 0.18686396, 0.20949669, 0.2467341 ]), 'avg_score': 0.21702103274333448, 'feature_names': (0, 2, 3, 4, 10, 11, 12, 13, 14, 18, 19, 20, 22, 25)}, 15: {'feature_idx': (0, 2, 3, 4, 10, 11, 12, 13, 14, 15, 18, 19, 20, 22, 25), 'cv_scores': array([0.25462831, 0.20296246, 0.2043395 , 0.19331487, 0.23794408]), 'avg_score': 0.2186378439392182, 'feature_names': (0, 2, 3, 4, 10, 11, 12, 13, 14, 15, 18, 19, 20, 22, 25)}}\n"
     ]
    },
    {
     "data": {
      "text/plain": [
       "(<Figure size 1000x1000 with 1 Axes>,\n",
       " <Axes: xlabel='Number of Features', ylabel='Performance'>)"
      ]
     },
     "execution_count": 23,
     "metadata": {},
     "output_type": "execute_result"
    },
    {
     "data": {
      "image/png": "[encoded data removed]",
      "text/plain": [
       "<Figure size 1000x1000 with 1 Axes>"
      ]
     },
     "metadata": {},
     "output_type": "display_data"
    }
   ],
   "source": [
    "# extract Features and target variables\n",
    "from sklearn.linear_model  import LogisticRegression\n",
    "from sklearn.ensemble import RandomForestClassifier\n",
    "from sklearn.tree import DecisionTreeClassifier # Decision Tree Classifier\n",
    "from mlxtend.feature_selection import SequentialFeatureSelector as SFS\n",
    "from sklearn.naive_bayes import GaussianNB #Naive Bayes Classifier\n",
    "from mlxtend.plotting import plot_sequential_feature_selection as plot_sfs\n",
    "from sklearn.metrics import f1_score, make_scorer\n",
    "\n",
    "f1 = make_scorer(f1_score, average='macro')\n",
    "\n",
    "rfc = RandomForestClassifier()\n",
    "sfs_range = SFS(estimator=rfc, \n",
    "           k_features=(2, 30),\n",
    "           forward=True, \n",
    "           floating=False, \n",
    "           scoring=f1,\n",
    "           cv=5)\n",
    "\n",
    "sfs_range = sfs_range.fit(fpl_23_tsvd, ycl)\n",
    "\n",
    "print('best combination (ACC: %.3f): %s\\n' % (sfs_range.k_score_, sfs_range.k_feature_idx_))\n",
    "print('all subsets:\\n', sfs_range.subsets_)\n",
    "plt.rcParams[\"figure.figsize\"] = (10,10)\n",
    "plot_sfs(sfs_range.get_metric_dict(), kind='std_err')"
   ]
  },
  {
   "cell_type": "code",
   "execution_count": 24,
   "id": "ca2b9c23",
   "metadata": {
    "tags": []
   },
   "outputs": [
    {
     "name": "stderr",
     "output_type": "stream",
     "text": [
      "\n",
      "STOPPING EARLY DUE TO KEYBOARD INTERRUPT..."
     ]
    },
    {
     "ename": "TypeError",
     "evalue": "must be real number, not NoneType",
     "output_type": "error",
     "traceback": [
      "\u001b[1;31m---------------------------------------------------------------------------\u001b[0m",
      "\u001b[1;31mTypeError\u001b[0m                                 Traceback (most recent call last)",
      "Cell \u001b[1;32mIn[24], line 22\u001b[0m\n\u001b[0;32m     13\u001b[0m sfs_range \u001b[38;5;241m=\u001b[39m SFS(estimator\u001b[38;5;241m=\u001b[39mrfc, \n\u001b[0;32m     14\u001b[0m            k_features\u001b[38;5;241m=\u001b[39m(\u001b[38;5;241m2\u001b[39m, \u001b[38;5;241m15\u001b[39m),\n\u001b[0;32m     15\u001b[0m            forward\u001b[38;5;241m=\u001b[39m\u001b[38;5;28;01mTrue\u001b[39;00m, \n\u001b[0;32m     16\u001b[0m            floating\u001b[38;5;241m=\u001b[39m\u001b[38;5;28;01mFalse\u001b[39;00m, \n\u001b[0;32m     17\u001b[0m            scoring\u001b[38;5;241m=\u001b[39mf1,\n\u001b[0;32m     18\u001b[0m            cv\u001b[38;5;241m=\u001b[39m\u001b[38;5;241m5\u001b[39m)\n\u001b[0;32m     20\u001b[0m sfs_range \u001b[38;5;241m=\u001b[39m sfs_range\u001b[38;5;241m.\u001b[39mfit(fpl_23_pca, ycl)\n\u001b[1;32m---> 22\u001b[0m \u001b[38;5;28mprint\u001b[39m(\u001b[38;5;124m'\u001b[39m\u001b[38;5;124mbest combination (ACC: \u001b[39m\u001b[38;5;132;01m%.3f\u001b[39;00m\u001b[38;5;124m): \u001b[39m\u001b[38;5;132;01m%s\u001b[39;00m\u001b[38;5;130;01m\\n\u001b[39;00m\u001b[38;5;124m'\u001b[39m \u001b[38;5;241m%\u001b[39m (sfs_range\u001b[38;5;241m.\u001b[39mk_score_, sfs_range\u001b[38;5;241m.\u001b[39mk_feature_idx_))\n\u001b[0;32m     23\u001b[0m \u001b[38;5;28mprint\u001b[39m(\u001b[38;5;124m'\u001b[39m\u001b[38;5;124mall subsets:\u001b[39m\u001b[38;5;130;01m\\n\u001b[39;00m\u001b[38;5;124m'\u001b[39m, sfs_range\u001b[38;5;241m.\u001b[39msubsets_)\n\u001b[0;32m     24\u001b[0m plt\u001b[38;5;241m.\u001b[39mrcParams[\u001b[38;5;124m\"\u001b[39m\u001b[38;5;124mfigure.figsize\u001b[39m\u001b[38;5;124m\"\u001b[39m] \u001b[38;5;241m=\u001b[39m (\u001b[38;5;241m10\u001b[39m,\u001b[38;5;241m10\u001b[39m)\n",
      "\u001b[1;31mTypeError\u001b[0m: must be real number, not NoneType"
     ]
    }
   ],
   "source": [
    "# extract Features and target variables\n",
    "from sklearn.linear_model  import LogisticRegression\n",
    "from sklearn.ensemble import RandomForestClassifier\n",
    "from sklearn.tree import DecisionTreeClassifier # Decision Tree Classifier\n",
    "from mlxtend.feature_selection import SequentialFeatureSelector as SFS\n",
    "from sklearn.naive_bayes import GaussianNB #Naive Bayes Classifier\n",
    "from mlxtend.plotting import plot_sequential_feature_selection as plot_sfs\n",
    "from sklearn.metrics import f1_score, make_scorer\n",
    "\n",
    "f1 = make_scorer(f1_score, average='macro')\n",
    "\n",
    "rfc = RandomForestClassifier()\n",
    "sfs_range = SFS(estimator=rfc, \n",
    "           k_features=(2, 30),\n",
    "           forward=True, \n",
    "           floating=False, \n",
    "           scoring=f1,\n",
    "           cv=5)\n",
    "\n",
    "sfs_range = sfs_range.fit(fpl_23_pca, ycl)\n",
    "\n",
    "print('best combination (ACC: %.3f): %s\\n' % (sfs_range.k_score_, sfs_range.k_feature_idx_))\n",
    "print('all subsets:\\n', sfs_range.subsets_)\n",
    "plt.rcParams[\"figure.figsize\"] = (10,10)\n",
    "plot_sfs(sfs_range.get_metric_dict(), kind='std_err')"
   ]
  },
  {
   "cell_type": "code",
   "execution_count": null,
   "id": "62cbe884-63a8-4c38-be24-65ca2c985704",
   "metadata": {
    "tags": []
   },
   "outputs": [],
   "source": [
    "best_feature_names = fpl_23_pca.columns[list(sfs_range.k_feature_idx_)]\n",
    "best_feature_names"
   ]
  },
  {
   "cell_type": "code",
   "execution_count": null,
   "id": "f931b1f2-785b-49df-838f-ff6e9b038eb0",
   "metadata": {
    "tags": []
   },
   "outputs": [],
   "source": [
    "X_sfs_pca = fpl_23_pca.iloc[:,[0, 2, 4, 5, 6, 8, 12, 17, 18, 19, 20, 23, 25, 26, 27]]\n",
    "#X_sfs = sfs_range.transform(x)"
   ]
  },
  {
   "cell_type": "markdown",
   "id": "dcd97031-81b5-4c0d-a54d-eb727aa2abc7",
   "metadata": {},
   "source": [
    "# ME PCA"
   ]
  },
  {
   "cell_type": "code",
   "execution_count": null,
   "id": "41e4e631",
   "metadata": {
    "tags": []
   },
   "outputs": [],
   "source": [
    "#Dividing data into test & train splitting 80% data for training anf 20% for test\n",
    "X_train, X_test, y_train, y_test = train_test_split(X_sfs_pca, ycl, test_size=0.20)\n",
    "print('There are {} samples in the training set and {} samples in the test set'.format(X_train.shape[0], X_test.shape[0]))"
   ]
  },
  {
   "cell_type": "code",
   "execution_count": null,
   "id": "abafc245-b971-449a-926b-a972c4ee210d",
   "metadata": {
    "tags": []
   },
   "outputs": [],
   "source": [
    "# Machine Learning Library\n",
    "from sklearn.preprocessing import LabelEncoder # Encode Categorical Variable to Numerical Variable\n",
    "from sklearn.impute import SimpleImputer # Imputer Class to replace missing values\n",
    "from sklearn.metrics import confusion_matrix # Library for model evaluation\n",
    "from sklearn.metrics import accuracy_score # Library for model evaluation\n",
    "from sklearn.model_selection import train_test_split # Library to split datset into test and train\n",
    " \n",
    "from sklearn.linear_model  import LogisticRegression # Logistic Regression Classifier\n",
    "from sklearn.linear_model import SGDClassifier # Stochastic Gradient Descent Classifier\n",
    "from sklearn.tree import DecisionTreeClassifier # Decision Tree Classifier\n",
    "from sklearn.ensemble  import RandomForestClassifier # Random Forest Classifier\n",
    "from sklearn.neighbors import KNeighborsClassifier # K Nearest neighbors Classifier\n",
    "from sklearn.naive_bayes import GaussianNB #Naive Bayes Classifier\n",
    "from sklearn.svm import SVC #Support vector Machine Classifier\n",
    "from sklearn.ensemble import AdaBoostClassifier # Ada Boost Classifier\n",
    "from sklearn.metrics import accuracy_score, f1_score, precision_score, recall_score, classification_report, confusion_matrix\n",
    "from sklearn.model_selection import cross_val_score\n",
    " \n",
    "plt.rcParams[\"figure.figsize\"] = (5,5)\n",
    " \n",
    "# Making a list of all classifiers\n",
    "classifier_model = [GaussianNB(), SVC(), DecisionTreeClassifier(), RandomForestClassifier(), SGDClassifier(), AdaBoostClassifier()]\n",
    " \n",
    "# Creating empty list to store the performance details\n",
    "classifier_model_list= []\n",
    "classifier_accuracy_test = []\n",
    "classifier_accuracy_train = []\n",
    "f1score = []\n",
    "precisionscore = []\n",
    "recallscore = []\n",
    "#avg_pre_rec_score = []\n",
    "cv_score = []\n",
    " \n",
    " \n",
    "for classifier_list in classifier_model:\n",
    "    classifier = classifier_list\n",
    "    # Fitting the training set into classification model\n",
    "    classifier.fit(X_train,y_train)\n",
    "    # Predicting the output on test dataset\n",
    "    y_pred_test = classifier.predict(X_test)    \n",
    "    score_test = accuracy_score(y_test, y_pred_test)\n",
    "    # Predicting the output on training datset\n",
    "    y_pred_train = classifier.predict(X_train) \n",
    "    score_train = accuracy_score(y_train, y_pred_train)\n",
    "    # Cross Validation Score on training test\n",
    "    scores = cross_val_score(classifier, X_train,y_train, cv=10)\n",
    "    cv_score.append(scores.mean())\n",
    "    #Keeping the model and accuracy score into a list\n",
    "    classifier_model_list.append(classifier_list.__class__.__name__)\n",
    "    classifier_accuracy_test.append(round(score_test,4))\n",
    "    classifier_accuracy_train.append(round(score_train,4))\n",
    "    #Precision, Recall and F1 score\n",
    "    f1score.append(f1_score(y_test, y_pred_test, average='macro'))\n",
    "    precisionscore.append(precision_score(y_test, y_pred_test, average='macro', zero_division=0))\n",
    "    recallscore.append(recall_score(y_test, y_pred_test, average='macro'))"
   ]
  },
  {
   "cell_type": "code",
   "execution_count": null,
   "id": "cac017d2",
   "metadata": {
    "tags": []
   },
   "outputs": [],
   "source": [
    "#Creating pandas dataframe with Model and corresponding accuracy\n",
    "#accuracy_df = pd.DataFrame({'Model':classifier_model_list , 'Test Accuracy':classifier_accuracy_test, 'Train Accuracy' :classifier_accuracy_test , 'Precision':precisionscore, 'Recall':recallscore ,'F1 Score':f1score},index=None)\n",
    "accuracy_df = pd.DataFrame({'Model':classifier_model_list , 'Cross Val Score':cv_score, 'Test Accuracy' :classifier_accuracy_test , 'Precision':precisionscore, 'Recall':recallscore, 'F1 Score':f1score})\n",
    "\n",
    "# Calculating Average Accuracy = (Test + Train)/2\n",
    "accuracy_df['Average_Accuracy'] =  (accuracy_df['Cross Val Score'] + accuracy_df['Test Accuracy'] )/ 2\n",
    "\n",
    "#Arranging the Columns\n",
    "print(\"\\n*------------------------------    CLASSIFICATION MODEL PERFORMANCE EVALUATION      ---------------------*\\n\")\n",
    "accuracy_df = accuracy_df[['Model','Cross Val Score', 'Test Accuracy', 'Average_Accuracy','Precision', 'Recall', 'F1 Score']]  # This will arrange the columns in the order we want\n",
    "\n",
    "#Sorting the Columns based on Average Accuracy\n",
    "accuracy_df.sort_values('Average_Accuracy', axis=0, ascending=False, inplace=True) # Sorting the data with highest accuracy in the top\n",
    "accuracy_df\n",
    "#accuracy_df.transpose()"
   ]
  },
  {
   "cell_type": "markdown",
   "id": "cafa1c76-7565-445b-a40a-de48cb075440",
   "metadata": {},
   "source": [
    "# ME SVD"
   ]
  },
  {
   "cell_type": "code",
   "execution_count": null,
   "id": "3620c891-884f-4db4-9ea1-05875633954b",
   "metadata": {},
   "outputs": [],
   "source": [
    "X_sfs_tsvd = fpl_23_tsvd.iloc[:,[0, 2, 4, 5, 6, 8, 12, 17, 18, 19, 20, 23, 25, 26, 27]]"
   ]
  },
  {
   "cell_type": "code",
   "execution_count": null,
   "id": "af95824c-08ec-47d9-a3ca-d33c84dc040b",
   "metadata": {
    "tags": []
   },
   "outputs": [],
   "source": [
    "#Dividing data into test & train splitting 80% data for training anf 20% for test\n",
    "X_train, X_test, y_train, y_test = train_test_split(X_sfs_tsvd, ycl, test_size=0.20)\n",
    "print('There are {} samples in the training set and {} samples in the test set'.format(X_train.shape[0], X_test.shape[0]))"
   ]
  },
  {
   "cell_type": "code",
   "execution_count": null,
   "id": "d8c1d7e2-ae0a-4ae7-b154-9cf94a997703",
   "metadata": {
    "tags": []
   },
   "outputs": [],
   "source": [
    "plt.rcParams[\"figure.figsize\"] = (5,5)\n",
    " \n",
    "# Making a list of all classifiers\n",
    "classifier_model = [GaussianNB(), SVC(), DecisionTreeClassifier(), RandomForestClassifier(), SGDClassifier(), AdaBoostClassifier()]\n",
    " \n",
    "# Creating empty list to store the performance details\n",
    "classifier_model_list= []\n",
    "classifier_accuracy_test = []\n",
    "classifier_accuracy_train = []\n",
    "f1score = []\n",
    "precisionscore = []\n",
    "recallscore = []\n",
    "#avg_pre_rec_score = []\n",
    "cv_score = []\n",
    " \n",
    " \n",
    "for classifier_list in classifier_model:\n",
    "    classifier = classifier_list\n",
    "    # Fitting the training set into classification model\n",
    "    classifier.fit(X_train,y_train)\n",
    "    # Predicting the output on test dataset\n",
    "    y_pred_test = classifier.predict(X_test)    \n",
    "    score_test = accuracy_score(y_test, y_pred_test)\n",
    "    # Predicting the output on training datset\n",
    "    y_pred_train = classifier.predict(X_train) \n",
    "    score_train = accuracy_score(y_train, y_pred_train)\n",
    "    # Cross Validation Score on training test\n",
    "    scores = cross_val_score(classifier, X_train,y_train, cv=10)\n",
    "    cv_score.append(scores.mean())\n",
    "    #Keeping the model and accuracy score into a list\n",
    "    classifier_model_list.append(classifier_list.__class__.__name__)\n",
    "    classifier_accuracy_test.append(round(score_test,4))\n",
    "    classifier_accuracy_train.append(round(score_train,4))\n",
    "    #Precision, Recall and F1 score\n",
    "    f1score.append(f1_score(y_test, y_pred_test, average='macro'))\n",
    "    precisionscore.append(precision_score(y_test, y_pred_test, average='macro', zero_division=0))\n",
    "    recallscore.append(recall_score(y_test, y_pred_test, average='macro'))"
   ]
  },
  {
   "cell_type": "code",
   "execution_count": null,
   "id": "d970802e-90dd-40e9-8c3e-c8cfea91e6d1",
   "metadata": {
    "tags": []
   },
   "outputs": [],
   "source": [
    "#Creating pandas dataframe with Model and corresponding accuracy\n",
    "#accuracy_df = pd.DataFrame({'Model':classifier_model_list , 'Test Accuracy':classifier_accuracy_test, 'Train Accuracy' :classifier_accuracy_test , 'Precision':precisionscore, 'Recall':recallscore ,'F1 Score':f1score},index=None)\n",
    "accuracy_df = pd.DataFrame({'Model':classifier_model_list , 'Cross Val Score':cv_score, 'Test Accuracy' :classifier_accuracy_test , 'Precision':precisionscore, 'Recall':recallscore, 'F1 Score':f1score})\n",
    "\n",
    "# Calculating Average Accuracy = (Test + Train)/2\n",
    "accuracy_df['Average_Accuracy'] =  (accuracy_df['Cross Val Score'] + accuracy_df['Test Accuracy'] )/ 2\n",
    "\n",
    "#Arranging the Columns\n",
    "print(\"\\n*------------------------------    CLASSIFICATION MODEL PERFORMANCE EVALUATION      ---------------------*\\n\")\n",
    "accuracy_df = accuracy_df[['Model','Cross Val Score', 'Test Accuracy', 'Average_Accuracy','Precision', 'Recall', 'F1 Score']]  # This will arrange the columns in the order we want\n",
    "\n",
    "#Sorting the Columns based on Average Accuracy\n",
    "accuracy_df.sort_values('Average_Accuracy', axis=0, ascending=False, inplace=True) # Sorting the data with highest accuracy in the top\n",
    "accuracy_df\n",
    "#accuracy_df.transpose()"
   ]
  },
  {
   "cell_type": "code",
   "execution_count": null,
   "id": "7ebd0b04-1cd5-4752-9304-0fa96ee0cb7c",
   "metadata": {},
   "outputs": [],
   "source": []
  },
  {
   "cell_type": "code",
   "execution_count": null,
   "id": "0e5e0142-636c-44bd-83dc-d40f39b5f5a4",
   "metadata": {},
   "outputs": [],
   "source": []
  },
  {
   "cell_type": "code",
   "execution_count": null,
   "id": "f31f3431-3b33-4dcf-8915-71127e0701e7",
   "metadata": {},
   "outputs": [],
   "source": []
  },
  {
   "cell_type": "code",
   "execution_count": null,
   "id": "b491d25c-aaf7-4c07-819d-9ff1106fda70",
   "metadata": {},
   "outputs": [],
   "source": []
  },
  {
   "cell_type": "code",
   "execution_count": null,
   "id": "888649ca-3ec9-41e8-b8b6-fc93c819d204",
   "metadata": {},
   "outputs": [],
   "source": []
  },
  {
   "cell_type": "code",
   "execution_count": null,
   "id": "d9feecd3-4d3c-4d38-b6e0-b0248029a702",
   "metadata": {},
   "outputs": [],
   "source": []
  }
 ],
 "metadata": {
  "kernelspec": {
   "display_name": "Python 3 (ipykernel)",
   "language": "python",
   "name": "python3"
  },
  "language_info": {
   "codemirror_mode": {
    "name": "ipython",
    "version": 3
   },
   "file_extension": ".py",
   "mimetype": "text/x-python",
   "name": "python",
   "nbconvert_exporter": "python",
   "pygments_lexer": "ipython3",
   "version": "3.11.5"
  }
 },
 "nbformat": 4,
 "nbformat_minor": 5
}
