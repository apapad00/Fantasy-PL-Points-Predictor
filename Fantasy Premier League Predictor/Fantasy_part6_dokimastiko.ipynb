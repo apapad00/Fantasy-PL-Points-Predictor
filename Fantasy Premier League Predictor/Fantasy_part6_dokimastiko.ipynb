{
 "cells": [
  {
   "cell_type": "markdown",
   "id": "147ac6b9",
   "metadata": {},
   "source": [
    "# Fantasy Premier League Project "
   ]
  },
  {
   "cell_type": "markdown",
   "id": "f9ff6738-de5a-4f76-a0ec-ebe9f77c1645",
   "metadata": {},
   "source": [
    "# BINARY"
   ]
  },
  {
   "cell_type": "markdown",
   "id": "0c324ddc",
   "metadata": {},
   "source": [
    "### Libraries "
   ]
  },
  {
   "cell_type": "code",
   "execution_count": 1,
   "id": "e0eb802d",
   "metadata": {
    "tags": []
   },
   "outputs": [],
   "source": [
    "import glob\n",
    "import pandas as pd\n",
    "import seaborn as sns\n",
    "import numpy as np\n",
    "import category_encoders as ce\n",
    "import matplotlib.pyplot as plt\n",
    "from sklearn.preprocessing import RobustScaler\n",
    "from mlxtend.feature_selection import SequentialFeatureSelector as SFS\n",
    "\n",
    "# extract Features and target variables\n",
    "from mlxtend.plotting import plot_sequential_feature_selection as plot_sfs\n",
    "\n",
    "# Machine Learning Library\n",
    "from sklearn.preprocessing import LabelEncoder # Encode Categorical Variable to Numerical Variable\n",
    "from sklearn.impute import SimpleImputer # Imputer Class to replace missing values\n",
    "from sklearn.metrics import confusion_matrix # Library for model evaluation\n",
    "from sklearn.model_selection import train_test_split # Library to split datset into test and train\n",
    "\n",
    "from sklearn.linear_model  import LogisticRegression # Logistic Regression Classifier\n",
    "from sklearn.linear_model import SGDClassifier # Stochastic Gradient Descent Classifier\n",
    "from sklearn.tree import DecisionTreeClassifier # Decision Tree Classifier\n",
    "from sklearn.ensemble  import RandomForestClassifier # Random Forest Classifier\n",
    "from sklearn.neighbors import KNeighborsClassifier # K Nearest neighbors Classifier\n",
    "from sklearn.naive_bayes import GaussianNB #Naive Bayes Classifier\n",
    "from sklearn.svm import SVC #Support vector Machine Classifier\n",
    "from sklearn.ensemble import AdaBoostClassifier # Ada Boost Classifier\n",
    "from sklearn.metrics import make_scorer\n",
    "from sklearn.metrics import accuracy_score, f1_score, precision_score, recall_score, classification_report, confusion_matrix\n",
    "from sklearn.model_selection import cross_val_score\n",
    "\n",
    "from sklearn.model_selection import GridSearchCV\n",
    "from sklearn.metrics import fbeta_score"
   ]
  },
  {
   "cell_type": "markdown",
   "id": "e521e3bc",
   "metadata": {},
   "source": [
    "### File reading"
   ]
  },
  {
   "cell_type": "code",
   "execution_count": 2,
   "id": "30c9b51a-572b-407b-9942-cbbe65204897",
   "metadata": {
    "tags": []
   },
   "outputs": [
    {
     "name": "stderr",
     "output_type": "stream",
     "text": [
      "C:\\Users\\Joseph\\AppData\\Local\\Temp\\ipykernel_14476\\1658855045.py:4: FutureWarning: The behavior of DataFrame concatenation with empty or all-NA entries is deprecated. In a future version, this will no longer exclude empty or all-NA columns when determining the result dtypes. To retain the old behavior, exclude the relevant entries before the concat operation.\n",
      "  fpl_23= pd.concat([pd.read_csv(f) for f in fpl_files_23 ], ignore_index=True)\n"
     ]
    }
   ],
   "source": [
    "#list all csv files\n",
    "\n",
    "fpl_files_23 = glob.glob('gw*_1.{}'.format('csv')) #fpl 2022-23 files\n",
    "fpl_23= pd.concat([pd.read_csv(f) for f in fpl_files_23 ], ignore_index=True)"
   ]
  },
  {
   "cell_type": "markdown",
   "id": "e49bd99c",
   "metadata": {},
   "source": [
    "## PREPROCESSING"
   ]
  },
  {
   "cell_type": "code",
   "execution_count": 3,
   "id": "b65724d2-e5d3-4ee4-9059-26049f25d1f3",
   "metadata": {
    "tags": []
   },
   "outputs": [],
   "source": [
    "fpl_23 = fpl_23[fpl_23['position']=='DEF']"
   ]
  },
  {
   "cell_type": "code",
   "execution_count": 4,
   "id": "63622027",
   "metadata": {
    "scrolled": true,
    "tags": []
   },
   "outputs": [],
   "source": [
    "#We transform all the strings which represent numeric values, to floats.\n",
    "fpl_23[['value','total_points','assists','bonus','bps','clean_sheets','element','minutes','goals_conceded','goals_scored','own_goals','penalties_missed','penalties_saved','red_cards','saves','selected','starts','team_a_score','team_h_score','transfers_balance','transfers_in','transfers_out',\"yellow_cards\"]]=fpl_23[['value','total_points','assists','bonus','bps','clean_sheets','element','minutes','goals_conceded','goals_scored','own_goals','penalties_missed','penalties_saved','red_cards','saves','selected','starts','team_a_score','team_h_score','transfers_balance','transfers_in','transfers_out',\"yellow_cards\"]].astype(float)"
   ]
  },
  {
   "cell_type": "code",
   "execution_count": 5,
   "id": "090d053a-adba-426b-b026-3229bba74cb3",
   "metadata": {
    "tags": []
   },
   "outputs": [],
   "source": [
    "# First, group by 'name' and 'round' and then take the mean of the matches for players with more than one match in a gameweek\n",
    "fpl_23 = fpl_23.groupby(['name', 'round']).mean(numeric_only = True).reset_index()\n",
    "# Now, you can set the index to the aggregated DataFrame\n",
    "fpl_23.set_index(['name', 'round'], inplace=True)\n",
    "# And sort the DataFrame by 'name' and 'round' again\n",
    "fpl_23 = fpl_23.sort_values(by=['name', 'round'])"
   ]
  },
  {
   "cell_type": "code",
   "execution_count": 6,
   "id": "67921c00-6c57-455c-ac0a-31a836741673",
   "metadata": {
    "tags": []
   },
   "outputs": [
    {
     "data": {
      "text/plain": [
       "Index(['xP', 'assists', 'bonus', 'bps', 'clean_sheets', 'creativity',\n",
       "       'element', 'expected_assists', 'expected_goal_involvements',\n",
       "       'expected_goals', 'expected_goals_conceded', 'goals_conceded',\n",
       "       'goals_scored', 'ict_index', 'influence', 'minutes', 'own_goals',\n",
       "       'penalties_missed', 'penalties_saved', 'red_cards', 'saves', 'selected',\n",
       "       'starts', 'team_a_score', 'team_h_score', 'threat', 'total_points',\n",
       "       'transfers_balance', 'transfers_in', 'transfers_out', 'value',\n",
       "       'yellow_cards'],\n",
       "      dtype='object')"
      ]
     },
     "execution_count": 6,
     "metadata": {},
     "output_type": "execute_result"
    }
   ],
   "source": [
    "fpl_23.columns"
   ]
  },
  {
   "cell_type": "code",
   "execution_count": 7,
   "id": "1736a7ac-0ade-4fc9-9bb6-fbf855367f3d",
   "metadata": {
    "tags": []
   },
   "outputs": [
    {
     "data": {
      "text/html": [
       "<div>\n",
       "<style scoped>\n",
       "    .dataframe tbody tr th:only-of-type {\n",
       "        vertical-align: middle;\n",
       "    }\n",
       "\n",
       "    .dataframe tbody tr th {\n",
       "        vertical-align: top;\n",
       "    }\n",
       "\n",
       "    .dataframe thead th {\n",
       "        text-align: right;\n",
       "    }\n",
       "</style>\n",
       "<table border=\"1\" class=\"dataframe\">\n",
       "  <thead>\n",
       "    <tr style=\"text-align: right;\">\n",
       "      <th></th>\n",
       "      <th></th>\n",
       "      <th>season_total_points</th>\n",
       "      <th>recent_total_points</th>\n",
       "      <th>prev_total_points</th>\n",
       "      <th>total_points</th>\n",
       "    </tr>\n",
       "    <tr>\n",
       "      <th>name</th>\n",
       "      <th>round</th>\n",
       "      <th></th>\n",
       "      <th></th>\n",
       "      <th></th>\n",
       "      <th></th>\n",
       "    </tr>\n",
       "  </thead>\n",
       "  <tbody>\n",
       "    <tr>\n",
       "      <th rowspan=\"5\" valign=\"top\">Aaron Cresswell</th>\n",
       "      <th>1</th>\n",
       "      <td>NaN</td>\n",
       "      <td>NaN</td>\n",
       "      <td>NaN</td>\n",
       "      <td>1.0</td>\n",
       "    </tr>\n",
       "    <tr>\n",
       "      <th>2</th>\n",
       "      <td>1.000</td>\n",
       "      <td>1.00</td>\n",
       "      <td>1.0</td>\n",
       "      <td>2.0</td>\n",
       "    </tr>\n",
       "    <tr>\n",
       "      <th>3</th>\n",
       "      <td>1.500</td>\n",
       "      <td>1.50</td>\n",
       "      <td>2.0</td>\n",
       "      <td>0.0</td>\n",
       "    </tr>\n",
       "    <tr>\n",
       "      <th>4</th>\n",
       "      <td>1.000</td>\n",
       "      <td>1.00</td>\n",
       "      <td>0.0</td>\n",
       "      <td>6.0</td>\n",
       "    </tr>\n",
       "    <tr>\n",
       "      <th>5</th>\n",
       "      <td>2.250</td>\n",
       "      <td>2.25</td>\n",
       "      <td>6.0</td>\n",
       "      <td>2.0</td>\n",
       "    </tr>\n",
       "    <tr>\n",
       "      <th>...</th>\n",
       "      <th>...</th>\n",
       "      <td>...</td>\n",
       "      <td>...</td>\n",
       "      <td>...</td>\n",
       "      <td>...</td>\n",
       "    </tr>\n",
       "    <tr>\n",
       "      <th rowspan=\"5\" valign=\"top\">Çaglar Söyüncü</th>\n",
       "      <th>34</th>\n",
       "      <td>0.250</td>\n",
       "      <td>1.00</td>\n",
       "      <td>2.0</td>\n",
       "      <td>10.0</td>\n",
       "    </tr>\n",
       "    <tr>\n",
       "      <th>35</th>\n",
       "      <td>0.875</td>\n",
       "      <td>3.50</td>\n",
       "      <td>10.0</td>\n",
       "      <td>0.0</td>\n",
       "    </tr>\n",
       "    <tr>\n",
       "      <th>36</th>\n",
       "      <td>0.875</td>\n",
       "      <td>3.50</td>\n",
       "      <td>0.0</td>\n",
       "      <td>0.0</td>\n",
       "    </tr>\n",
       "    <tr>\n",
       "      <th>37</th>\n",
       "      <td>0.875</td>\n",
       "      <td>3.00</td>\n",
       "      <td>0.0</td>\n",
       "      <td>0.0</td>\n",
       "    </tr>\n",
       "    <tr>\n",
       "      <th>38</th>\n",
       "      <td>0.875</td>\n",
       "      <td>2.50</td>\n",
       "      <td>0.0</td>\n",
       "      <td>0.0</td>\n",
       "    </tr>\n",
       "  </tbody>\n",
       "</table>\n",
       "<p>8621 rows × 4 columns</p>\n",
       "</div>"
      ],
      "text/plain": [
       "                       season_total_points  recent_total_points  \\\n",
       "name            round                                             \n",
       "Aaron Cresswell 1                      NaN                  NaN   \n",
       "                2                    1.000                 1.00   \n",
       "                3                    1.500                 1.50   \n",
       "                4                    1.000                 1.00   \n",
       "                5                    2.250                 2.25   \n",
       "...                                    ...                  ...   \n",
       "Çaglar Söyüncü  34                   0.250                 1.00   \n",
       "                35                   0.875                 3.50   \n",
       "                36                   0.875                 3.50   \n",
       "                37                   0.875                 3.00   \n",
       "                38                   0.875                 2.50   \n",
       "\n",
       "                       prev_total_points  total_points  \n",
       "name            round                                   \n",
       "Aaron Cresswell 1                    NaN           1.0  \n",
       "                2                    1.0           2.0  \n",
       "                3                    2.0           0.0  \n",
       "                4                    0.0           6.0  \n",
       "                5                    6.0           2.0  \n",
       "...                                  ...           ...  \n",
       "Çaglar Söyüncü  34                   2.0          10.0  \n",
       "                35                  10.0           0.0  \n",
       "                36                   0.0           0.0  \n",
       "                37                   0.0           0.0  \n",
       "                38                   0.0           0.0  \n",
       "\n",
       "[8621 rows x 4 columns]"
      ]
     },
     "execution_count": 7,
     "metadata": {},
     "output_type": "execute_result"
    }
   ],
   "source": [
    "def rolling_average(series, window):\n",
    "    return series.rolling(min_periods=1, window=window).mean().shift(1)\n",
    "\n",
    "def get_player_averages(df, stats):\n",
    "    feature_names = []\n",
    "    for stat in stats + ['total_points']:\n",
    "        # Make sure the stat is a column in the dataframe\n",
    "        if stat in df.columns:\n",
    "            grouped = df.groupby('name')[stat]  # Group by name\n",
    "            df['season_{}'.format(stat)] = grouped.transform(lambda x: rolling_average(x, 16))\n",
    "            df['recent_{}'.format(stat)] = grouped.transform(lambda x: rolling_average(x, 4))\n",
    "            df['prev_{}'.format(stat)] = grouped.transform(lambda x: rolling_average(x, 1))\n",
    "            feature_names += [time + \"_\" + stat for time in ['season', 'recent', 'prev']]\n",
    "        else:\n",
    "            raise KeyError(f\"The stat '{stat}' was not found in the dataframe.\")\n",
    "    return df, feature_names\n",
    "\n",
    "# Example usage\n",
    "stats = ['clean_sheets', 'expected_goals_conceded', 'goals_conceded', 'goals_scored', 'assists']\n",
    "\n",
    "get_player_averages(fpl_23, stats)\n",
    "fpl_23[['season_total_points', 'recent_total_points', 'prev_total_points', 'total_points']]"
   ]
  },
  {
   "cell_type": "markdown",
   "id": "e2f66362",
   "metadata": {},
   "source": [
    "## Boxplots for checking outliers for our target value (total points)"
   ]
  },
  {
   "cell_type": "markdown",
   "id": "f6b1d6b3",
   "metadata": {},
   "source": [
    "We see from the boxplot that we have too many outliers.\n",
    "This is likely happens because we take into account all the players in the premier league, even the ones that have little play time.\n",
    "__These players have few to none points dragging down the mean, making the other regular players look like outliers.__"
   ]
  },
  {
   "cell_type": "code",
   "execution_count": 8,
   "id": "8163a95f-c505-4f33-8d00-73ed24636072",
   "metadata": {
    "tags": []
   },
   "outputs": [],
   "source": [
    "fpl_23.reset_index(inplace=True)"
   ]
  },
  {
   "cell_type": "code",
   "execution_count": 9,
   "id": "d089739b-4e21-48f4-bc34-be2359439e0d",
   "metadata": {
    "tags": []
   },
   "outputs": [],
   "source": [
    "# We repeat the same process as before\n",
    "player_means = fpl_23.groupby('name')['minutes'].mean()\n",
    "\n",
    "# Filter for players with mean minutes fewer than 60\n",
    "players_with_mean_zero = player_means[player_means <60]\n",
    "\n",
    "# Remove players with mean minutes fewer than 60 from the original DataFrame\n",
    "fpl_23 = fpl_23[~fpl_23['name'].isin(players_with_mean_zero.index)]"
   ]
  },
  {
   "cell_type": "markdown",
   "id": "2c11e248",
   "metadata": {},
   "source": [
    "### We decided that we will not include any players with a mean value less than 60 minutes of playtime.\n",
    "This way we focus on the players which are usually in the starting lineup, which are also more likely to score more points, making them a better choice for the Fantasy Team."
   ]
  },
  {
   "cell_type": "markdown",
   "id": "27f76549",
   "metadata": {},
   "source": [
    "#### Interquaretile Range Method (IQR)"
   ]
  },
  {
   "cell_type": "code",
   "execution_count": 10,
   "id": "87aebfed-f072-4bf3-a6be-22537a13ef97",
   "metadata": {
    "tags": []
   },
   "outputs": [
    {
     "name": "stdout",
     "output_type": "stream",
     "text": [
      "The Upper whisker is 11.0 and the Lower whisker is -3.0.\n"
     ]
    }
   ],
   "source": [
    "Q1 = fpl_23['total_points'].quantile(0.25)\n",
    "Q3 = fpl_23['total_points'].quantile(0.75)\n",
    "IQR = Q3-Q1\n",
    "upper_whisker = min(Q3 + 1.5*IQR, max(fpl_23['total_points']))\n",
    "lower_whisker = max(Q1 - 1.5*IQR, min(fpl_23['total_points']))\n",
    "print(\"The Upper whisker is {} and the Lower whisker is {}.\".format(upper_whisker,lower_whisker))"
   ]
  },
  {
   "cell_type": "markdown",
   "id": "148ba274",
   "metadata": {},
   "source": [
    "### Data Visualizations."
   ]
  },
  {
   "cell_type": "code",
   "execution_count": 11,
   "id": "082b83bf",
   "metadata": {
    "tags": []
   },
   "outputs": [
    {
     "name": "stderr",
     "output_type": "stream",
     "text": [
      "C:\\Users\\Joseph\\anaconda3\\Lib\\site-packages\\seaborn\\_oldcore.py:1498: FutureWarning: is_categorical_dtype is deprecated and will be removed in a future version. Use isinstance(dtype, CategoricalDtype) instead\n",
      "  if pd.api.types.is_categorical_dtype(vector):\n"
     ]
    },
    {
     "data": {
      "text/plain": [
       "Text(0, 0.5, 'total_points')"
      ]
     },
     "execution_count": 11,
     "metadata": {},
     "output_type": "execute_result"
    },
    {
     "data": {
      "image/png": "[encoded data removed]",
      "text/plain": [
       "<Figure size 640x480 with 1 Axes>"
      ]
     },
     "metadata": {},
     "output_type": "display_data"
    }
   ],
   "source": [
    "#Violin plot\n",
    "fig, ax = plt.subplots()\n",
    "sns.violinplot(data=fpl_23, y='total_points')\n",
    "ax.set_ylabel('total_points')"
   ]
  },
  {
   "cell_type": "markdown",
   "id": "cd37af9b",
   "metadata": {},
   "source": [
    "### This is our 4 datasets: \n",
    "- Dataset with outliers\n",
    "- Dataset without outliers\n",
    "- Scaled Dataset with outliers\n",
    "- Scaled Dataset without outliers"
   ]
  },
  {
   "cell_type": "code",
   "execution_count": 12,
   "id": "b1b93d44-3e33-4ee4-9217-87f4ba164783",
   "metadata": {
    "tags": []
   },
   "outputs": [],
   "source": [
    "fpl_23.drop(columns = ['xP', 'assists', 'bonus', 'bps', 'clean_sheets',\n",
    "       'creativity', 'element', 'expected_assists',\n",
    "       'expected_goal_involvements', 'expected_goals',\n",
    "       'expected_goals_conceded', 'goals_conceded', 'goals_scored',\n",
    "       'ict_index', 'influence', 'minutes', 'own_goals', 'penalties_missed',\n",
    "       'penalties_saved', 'red_cards', 'saves', 'selected', 'starts',\n",
    "       'team_a_score', 'team_h_score', 'threat',\n",
    "       'transfers_balance', 'transfers_in', 'transfers_out', 'value',\n",
    "       'yellow_cards'], inplace=True, axis=1)"
   ]
  },
  {
   "cell_type": "code",
   "execution_count": 13,
   "id": "a9500e2d-dadc-40b8-bf78-dabf85f3dbe2",
   "metadata": {
    "tags": []
   },
   "outputs": [],
   "source": [
    "fpl_23.fillna(0,inplace=True)"
   ]
  },
  {
   "cell_type": "code",
   "execution_count": 14,
   "id": "72c7a765-4b6b-40ef-9ecd-06fbe78eb891",
   "metadata": {
    "tags": []
   },
   "outputs": [
    {
     "data": {
      "text/plain": [
       "name                              0\n",
       "round                             0\n",
       "total_points                      0\n",
       "season_clean_sheets               0\n",
       "recent_clean_sheets               0\n",
       "prev_clean_sheets                 0\n",
       "season_expected_goals_conceded    0\n",
       "recent_expected_goals_conceded    0\n",
       "prev_expected_goals_conceded      0\n",
       "season_goals_conceded             0\n",
       "recent_goals_conceded             0\n",
       "prev_goals_conceded               0\n",
       "season_goals_scored               0\n",
       "recent_goals_scored               0\n",
       "prev_goals_scored                 0\n",
       "season_assists                    0\n",
       "recent_assists                    0\n",
       "prev_assists                      0\n",
       "season_total_points               0\n",
       "recent_total_points               0\n",
       "prev_total_points                 0\n",
       "dtype: int64"
      ]
     },
     "execution_count": 14,
     "metadata": {},
     "output_type": "execute_result"
    }
   ],
   "source": [
    "fpl_23.isna().sum()"
   ]
  },
  {
   "cell_type": "code",
   "execution_count": 15,
   "id": "54b2b2d3",
   "metadata": {
    "tags": []
   },
   "outputs": [],
   "source": [
    "#Dataset without outliers\n",
    "fpl_23_no_outl = fpl_23[ (fpl_23['total_points'] >= lower_whisker) & (fpl_23['total_points'] <= upper_whisker) ]\n",
    "\n",
    "# Scaled dataset with outliers\n",
    "fpl_23_scaled = fpl_23.select_dtypes(include=['number'])\n",
    "fpl_23_scaled = fpl_23_scaled.drop(['total_points'], axis=1)\n",
    "rscaler = RobustScaler()\n",
    "\n",
    "robustRescaledX = rscaler.fit_transform(fpl_23_scaled)\n",
    "fpl_23_scaled = pd.DataFrame(robustRescaledX, columns=fpl_23_scaled.columns)\n",
    "cols_to_add = ['total_points']\n",
    "\n",
    "for col in cols_to_add:\n",
    "    fpl_23_scaled[col] = fpl_23[col].reset_index(drop=True)\n",
    "\n",
    "\n",
    "# Scaled dataset without outliers\n",
    "fpl_23_scaled_no_outl = fpl_23_no_outl.select_dtypes(include=['number'])\n",
    "fpl_23_scaled_no_outl = fpl_23_scaled_no_outl.drop(['total_points'], axis=1)\n",
    "rscaler2 = RobustScaler()\n",
    "\n",
    "robustRescaledX2 = rscaler2.fit_transform(fpl_23_scaled_no_outl)\n",
    "fpl_23_scaled_no_outl = pd.DataFrame(robustRescaledX2, columns=fpl_23_scaled_no_outl.columns)\n",
    "cols_to_add = ['total_points']\n",
    "\n",
    "for col in cols_to_add:\n",
    "    fpl_23_scaled_no_outl[col] = fpl_23_no_outl[col].reset_index(drop=True)"
   ]
  },
  {
   "cell_type": "code",
   "execution_count": 16,
   "id": "5f95c6ee",
   "metadata": {
    "tags": []
   },
   "outputs": [],
   "source": [
    "x=fpl_23.select_dtypes(include=['number'])\n",
    "x=x.drop(columns=['total_points'])\n",
    "y=fpl_23['total_points']"
   ]
  },
  {
   "cell_type": "code",
   "execution_count": 17,
   "id": "f0b8474a",
   "metadata": {
    "tags": []
   },
   "outputs": [],
   "source": [
    "x_no_outl=fpl_23_no_outl.select_dtypes(include=['number'])\n",
    "x_no_outl=x_no_outl.drop(columns=['total_points'])\n",
    "y_no_outl=fpl_23_no_outl['total_points']"
   ]
  },
  {
   "cell_type": "code",
   "execution_count": 18,
   "id": "ec867311",
   "metadata": {
    "tags": []
   },
   "outputs": [],
   "source": [
    "x_scaled=fpl_23_scaled.select_dtypes(include=['number'])\n",
    "x_scaled=x_scaled.drop(columns=['total_points'])\n",
    "# we use the y for our target value here"
   ]
  },
  {
   "cell_type": "code",
   "execution_count": 19,
   "id": "36c486f5",
   "metadata": {
    "tags": []
   },
   "outputs": [],
   "source": [
    "x_scaled_no_outl=fpl_23_scaled_no_outl.select_dtypes(include=['number'])\n",
    "x_scaled_no_outl=x_scaled_no_outl.drop(columns=['total_points'])\n",
    "# we use the y_no_outl for our target value here"
   ]
  },
  {
   "cell_type": "markdown",
   "id": "a5d21a9a",
   "metadata": {},
   "source": [
    "#### Classification\n",
    "Class 1: below or equal 4 points   \n",
    "Class 2: 4 points and above  "
   ]
  },
  {
   "cell_type": "markdown",
   "id": "f26177fe-b682-4004-88e9-936c56818f30",
   "metadata": {
    "tags": []
   },
   "source": [
    "#### new Y for classification for the dataset with outliers"
   ]
  },
  {
   "cell_type": "code",
   "execution_count": 20,
   "id": "f77a4394-a98f-4bed-b071-e3ef02fa2bc2",
   "metadata": {
    "tags": []
   },
   "outputs": [
    {
     "data": {
      "text/plain": [
       "total_points\n",
       "0    1139\n",
       "1     456\n",
       "Name: count, dtype: int64"
      ]
     },
     "execution_count": 20,
     "metadata": {},
     "output_type": "execute_result"
    }
   ],
   "source": [
    "ycl = pd.cut(y, bins = [-np.inf, 4, np.inf], labels =[0,1])\n",
    "ycl.value_counts()"
   ]
  },
  {
   "cell_type": "code",
   "execution_count": 21,
   "id": "c77e9aac-c4c7-4e2f-a363-e512612ce0fa",
   "metadata": {
    "tags": []
   },
   "outputs": [
    {
     "data": {
      "text/plain": [
       "total_points\n",
       "0    1139\n",
       "1     430\n",
       "Name: count, dtype: int64"
      ]
     },
     "execution_count": 21,
     "metadata": {},
     "output_type": "execute_result"
    }
   ],
   "source": [
    "# new Y for classification for the dataset without outliers\n",
    "y_no_outl_cl = pd.cut(y_no_outl, bins = [-np.inf, 4, np.inf], labels =[0,1])\n",
    "y_no_outl_cl.value_counts()"
   ]
  },
  {
   "cell_type": "markdown",
   "id": "fed7599a",
   "metadata": {},
   "source": [
    "#### Feature selection - Classifcation"
   ]
  },
  {
   "cell_type": "code",
   "execution_count": 27,
   "id": "ca2b9c23",
   "metadata": {},
   "outputs": [
    {
     "name": "stdout",
     "output_type": "stream",
     "text": [
      "best combination (ACC: 0.779): (0, 2, 3, 6, 9, 15)\n",
      "\n",
      "all subsets:\n",
      " {1: {'feature_idx': (6,), 'cv_scores': array([0.68986985, 0.76272442, 0.65719945, 0.73555165, 0.70637896]), 'avg_score': 0.710344864864766, 'feature_names': ('prev_expected_goals_conceded',)}, 2: {'feature_idx': (6, 9), 'cv_scores': array([0.70330742, 0.76297188, 0.7107775 , 0.70667582, 0.73310818]), 'avg_score': 0.723368160010087, 'feature_names': ('prev_expected_goals_conceded', 'prev_goals_conceded')}, 3: {'feature_idx': (0, 6, 9), 'cv_scores': array([0.73900439, 0.80705616, 0.72066743, 0.71722288, 0.76573999]), 'avg_score': 0.7499381714804525, 'feature_names': ('round', 'prev_expected_goals_conceded', 'prev_goals_conceded')}, 4: {'feature_idx': (0, 2, 6, 9), 'cv_scores': array([0.77742923, 0.83686612, 0.73108397, 0.71625606, 0.79213549]), 'avg_score': 0.7707541708330459, 'feature_names': ('round', 'recent_clean_sheets', 'prev_expected_goals_conceded', 'prev_goals_conceded')}, 5: {'feature_idx': (0, 2, 3, 6, 9), 'cv_scores': array([0.77742923, 0.84388598, 0.73756387, 0.72551335, 0.80049568]), 'avg_score': 0.7769776226940931, 'feature_names': ('round', 'recent_clean_sheets', 'prev_clean_sheets', 'prev_expected_goals_conceded', 'prev_goals_conceded')}, 6: {'feature_idx': (0, 2, 3, 6, 9, 15), 'cv_scores': array([0.77928945, 0.84261595, 0.75205417, 0.71264628, 0.80814634]), 'avg_score': 0.7789504388177347, 'feature_names': ('round', 'recent_clean_sheets', 'prev_clean_sheets', 'prev_expected_goals_conceded', 'prev_goals_conceded', 'prev_assists')}, 7: {'feature_idx': (0, 2, 3, 5, 6, 9, 15), 'cv_scores': array([0.74517259, 0.8441293 , 0.75888711, 0.70703323, 0.77827214]), 'avg_score': 0.7666988741525282, 'feature_names': ('round', 'recent_clean_sheets', 'prev_clean_sheets', 'recent_expected_goals_conceded', 'prev_expected_goals_conceded', 'prev_goals_conceded', 'prev_assists')}, 8: {'feature_idx': (0, 2, 3, 5, 6, 9, 11, 15), 'cv_scores': array([0.74404378, 0.80330957, 0.74003547, 0.72911072, 0.77546626]), 'avg_score': 0.7583931599763272, 'feature_names': ('round', 'recent_clean_sheets', 'prev_clean_sheets', 'recent_expected_goals_conceded', 'prev_expected_goals_conceded', 'prev_goals_conceded', 'recent_goals_scored', 'prev_assists')}, 9: {'feature_idx': (0, 2, 3, 5, 6, 9, 11, 12, 15), 'cv_scores': array([0.74287055, 0.81455707, 0.74791232, 0.72833666, 0.78210769]), 'avg_score': 0.7631568576222498, 'feature_names': ('round', 'recent_clean_sheets', 'prev_clean_sheets', 'recent_expected_goals_conceded', 'prev_expected_goals_conceded', 'prev_goals_conceded', 'recent_goals_scored', 'prev_goals_scored', 'prev_assists')}, 10: {'feature_idx': (0, 2, 3, 5, 6, 8, 9, 11, 12, 15), 'cv_scores': array([0.75898733, 0.82868537, 0.72321339, 0.71458155, 0.78485942]), 'avg_score': 0.7620654118499439, 'feature_names': ('round', 'recent_clean_sheets', 'prev_clean_sheets', 'recent_expected_goals_conceded', 'prev_expected_goals_conceded', 'recent_goals_conceded', 'prev_goals_conceded', 'recent_goals_scored', 'prev_goals_scored', 'prev_assists')}, 11: {'feature_idx': (0, 1, 2, 3, 5, 6, 8, 9, 11, 12, 15), 'cv_scores': array([0.77230569, 0.84264766, 0.72490316, 0.6689622 , 0.76544112]), 'avg_score': 0.7548519664769082, 'feature_names': ('round', 'season_clean_sheets', 'recent_clean_sheets', 'prev_clean_sheets', 'recent_expected_goals_conceded', 'prev_expected_goals_conceded', 'recent_goals_conceded', 'prev_goals_conceded', 'recent_goals_scored', 'prev_goals_scored', 'prev_assists')}, 12: {'feature_idx': (0, 1, 2, 3, 5, 6, 8, 9, 11, 12, 14, 15), 'cv_scores': array([0.73683619, 0.83240046, 0.70795778, 0.68786609, 0.77819714]), 'avg_score': 0.7486515316477264, 'feature_names': ('round', 'season_clean_sheets', 'recent_clean_sheets', 'prev_clean_sheets', 'recent_expected_goals_conceded', 'prev_expected_goals_conceded', 'recent_goals_conceded', 'prev_goals_conceded', 'recent_goals_scored', 'prev_goals_scored', 'recent_assists', 'prev_assists')}, 13: {'feature_idx': (0, 1, 2, 3, 4, 5, 6, 8, 9, 11, 12, 14, 15), 'cv_scores': array([0.75160621, 0.80410771, 0.69834954, 0.68308125, 0.75763777]), 'avg_score': 0.7389564953634694, 'feature_names': ('round', 'season_clean_sheets', 'recent_clean_sheets', 'prev_clean_sheets', 'season_expected_goals_conceded', 'recent_expected_goals_conceded', 'prev_expected_goals_conceded', 'recent_goals_conceded', 'prev_goals_conceded', 'recent_goals_scored', 'prev_goals_scored', 'recent_assists', 'prev_assists')}, 14: {'feature_idx': (0, 1, 2, 3, 4, 5, 6, 8, 9, 11, 12, 13, 14, 15), 'cv_scores': array([0.73090673, 0.77230569, 0.68502516, 0.69738517, 0.76544112]), 'avg_score': 0.7302127724937144, 'feature_names': ('round', 'season_clean_sheets', 'recent_clean_sheets', 'prev_clean_sheets', 'season_expected_goals_conceded', 'recent_expected_goals_conceded', 'prev_expected_goals_conceded', 'recent_goals_conceded', 'prev_goals_conceded', 'recent_goals_scored', 'prev_goals_scored', 'season_assists', 'recent_assists', 'prev_assists')}, 15: {'feature_idx': (0, 1, 2, 3, 4, 5, 6, 8, 9, 10, 11, 12, 13, 14, 15), 'cv_scores': array([0.69266813, 0.77788729, 0.68072697, 0.66637762, 0.76433446]), 'avg_score': 0.7163988947725932, 'feature_names': ('round', 'season_clean_sheets', 'recent_clean_sheets', 'prev_clean_sheets', 'season_expected_goals_conceded', 'recent_expected_goals_conceded', 'prev_expected_goals_conceded', 'recent_goals_conceded', 'prev_goals_conceded', 'season_goals_scored', 'recent_goals_scored', 'prev_goals_scored', 'season_assists', 'recent_assists', 'prev_assists')}}\n"
     ]
    },
    {
     "data": {
      "text/plain": [
       "(<Figure size 1000x1000 with 1 Axes>,\n",
       " <Axes: xlabel='Number of Features', ylabel='Performance'>)"
      ]
     },
     "execution_count": 27,
     "metadata": {},
     "output_type": "execute_result"
    },
    {
     "data": {
      "image/png": "[encoded data removed]",
      "text/plain": [
       "<Figure size 1000x1000 with 1 Axes>"
      ]
     },
     "metadata": {},
     "output_type": "display_data"
    }
   ],
   "source": [
    "f1 = make_scorer(f1_score, average='weighted') #because we have imbalanced binary classification\n",
    "\n",
    "rfc = RandomForestClassifier()\n",
    "sfs_range = SFS(estimator=rfc, \n",
    "           k_features=(2, 15),\n",
    "           forward=True, \n",
    "           floating=False, \n",
    "           scoring=f1,\n",
    "           cv=5)\n",
    "\n",
    "sfs_range = sfs_range.fit(x, ycl)\n",
    "\n",
    "print('best combination (ACC: %.3f): %s\\n' % (sfs_range.k_score_, sfs_range.k_feature_idx_))\n",
    "print('all subsets:\\n', sfs_range.subsets_)\n",
    "plt.rcParams[\"figure.figsize\"] = (10,10)\n",
    "plot_sfs(sfs_range.get_metric_dict(), kind='std_err')"
   ]
  },
  {
   "cell_type": "code",
   "execution_count": 28,
   "id": "f845700c-dcea-4187-bfeb-0dd5768a290d",
   "metadata": {
    "tags": []
   },
   "outputs": [
    {
     "data": {
      "text/plain": [
       "Index(['round', 'recent_clean_sheets', 'prev_clean_sheets',\n",
       "       'prev_expected_goals_conceded', 'prev_goals_conceded', 'prev_assists'],\n",
       "      dtype='object')"
      ]
     },
     "execution_count": 28,
     "metadata": {},
     "output_type": "execute_result"
    }
   ],
   "source": [
    "best_feature_names1 = x.columns[list(sfs_range.k_feature_idx_)]\n",
    "best_feature_names1"
   ]
  },
  {
   "cell_type": "code",
   "execution_count": 29,
   "id": "a3408350-3c0e-40a0-a1f4-bc372fc95486",
   "metadata": {},
   "outputs": [
    {
     "name": "stdout",
     "output_type": "stream",
     "text": [
      "best combination (ACC: 0.772): (0, 2, 3, 6, 9, 12)\n",
      "\n",
      "all subsets:\n",
      " {1: {'feature_idx': (6,), 'cv_scores': array([0.69981538, 0.75956202, 0.66178342, 0.72883304, 0.70490282]), 'avg_score': 0.7109793354327599, 'feature_names': ('prev_expected_goals_conceded',)}, 2: {'feature_idx': (0, 6), 'cv_scores': array([0.7112518 , 0.77788729, 0.72035545, 0.71458155, 0.72353852]), 'avg_score': 0.7295229215483527, 'feature_names': ('round', 'prev_expected_goals_conceded')}, 3: {'feature_idx': (0, 6, 9), 'cv_scores': array([0.73890294, 0.81077818, 0.70387736, 0.72490316, 0.74328576]), 'avg_score': 0.7443494834671457, 'feature_names': ('round', 'prev_expected_goals_conceded', 'prev_goals_conceded')}, 4: {'feature_idx': (0, 2, 6, 9), 'cv_scores': array([0.75108514, 0.83262634, 0.71159875, 0.72035545, 0.78124481]), 'avg_score': 0.7593820956907473, 'feature_names': ('round', 'recent_clean_sheets', 'prev_expected_goals_conceded', 'prev_goals_conceded')}, 5: {'feature_idx': (0, 2, 3, 6, 9), 'cv_scores': array([0.76642721, 0.84388598, 0.7148913 , 0.72442271, 0.78767879]), 'avg_score': 0.7674611950800563, 'feature_names': ('round', 'recent_clean_sheets', 'prev_clean_sheets', 'prev_expected_goals_conceded', 'prev_goals_conceded')}, 6: {'feature_idx': (0, 2, 3, 6, 9, 12), 'cv_scores': array([0.76175549, 0.84677013, 0.73556196, 0.72326098, 0.79045401]), 'avg_score': 0.7715605155484871, 'feature_names': ('round', 'recent_clean_sheets', 'prev_clean_sheets', 'prev_expected_goals_conceded', 'prev_goals_conceded', 'prev_goals_scored')}, 7: {'feature_idx': (0, 2, 3, 6, 9, 11, 12), 'cv_scores': array([0.75193793, 0.8240713 , 0.71225135, 0.7402155 , 0.78938763]), 'avg_score': 0.7635727443632163, 'feature_names': ('round', 'recent_clean_sheets', 'prev_clean_sheets', 'prev_expected_goals_conceded', 'prev_goals_conceded', 'recent_goals_scored', 'prev_goals_scored')}, 8: {'feature_idx': (0, 2, 3, 6, 9, 11, 12, 15), 'cv_scores': array([0.73752821, 0.83046871, 0.72171279, 0.70646463, 0.79450222]), 'avg_score': 0.7581353138035227, 'feature_names': ('round', 'recent_clean_sheets', 'prev_clean_sheets', 'prev_expected_goals_conceded', 'prev_goals_conceded', 'recent_goals_scored', 'prev_goals_scored', 'prev_assists')}, 9: {'feature_idx': (0, 2, 3, 6, 9, 11, 12, 14, 15), 'cv_scores': array([0.72320768, 0.80992753, 0.71753225, 0.69868445, 0.7517686 ]), 'avg_score': 0.7402241015233509, 'feature_names': ('round', 'recent_clean_sheets', 'prev_clean_sheets', 'prev_expected_goals_conceded', 'prev_goals_conceded', 'recent_goals_scored', 'prev_goals_scored', 'recent_assists', 'prev_assists')}, 10: {'feature_idx': (0, 2, 3, 6, 8, 9, 11, 12, 14, 15), 'cv_scores': array([0.7447835 , 0.7916123 , 0.6857943 , 0.68458596, 0.7285533 ]), 'avg_score': 0.7270658708947428, 'feature_names': ('round', 'recent_clean_sheets', 'prev_clean_sheets', 'prev_expected_goals_conceded', 'recent_goals_conceded', 'prev_goals_conceded', 'recent_goals_scored', 'prev_goals_scored', 'recent_assists', 'prev_assists')}, 11: {'feature_idx': (0, 2, 3, 5, 6, 8, 9, 11, 12, 14, 15), 'cv_scores': array([0.73657502, 0.79502568, 0.66675153, 0.7012915 , 0.76526621]), 'avg_score': 0.7329819865484893, 'feature_names': ('round', 'recent_clean_sheets', 'prev_clean_sheets', 'recent_expected_goals_conceded', 'prev_expected_goals_conceded', 'recent_goals_conceded', 'prev_goals_conceded', 'recent_goals_scored', 'prev_goals_scored', 'recent_assists', 'prev_assists')}, 12: {'feature_idx': (0, 2, 3, 5, 6, 7, 8, 9, 11, 12, 14, 15), 'cv_scores': array([0.68390272, 0.7612091 , 0.6857943 , 0.69612316, 0.74254249]), 'avg_score': 0.7139143529807264, 'feature_names': ('round', 'recent_clean_sheets', 'prev_clean_sheets', 'recent_expected_goals_conceded', 'prev_expected_goals_conceded', 'season_goals_conceded', 'recent_goals_conceded', 'prev_goals_conceded', 'recent_goals_scored', 'prev_goals_scored', 'recent_assists', 'prev_assists')}, 13: {'feature_idx': (0, 2, 3, 4, 5, 6, 7, 8, 9, 11, 12, 14, 15), 'cv_scores': array([0.69067387, 0.7492163 , 0.67288181, 0.65112453, 0.71338506]), 'avg_score': 0.6954563135977695, 'feature_names': ('round', 'recent_clean_sheets', 'prev_clean_sheets', 'season_expected_goals_conceded', 'recent_expected_goals_conceded', 'prev_expected_goals_conceded', 'season_goals_conceded', 'recent_goals_conceded', 'prev_goals_conceded', 'recent_goals_scored', 'prev_goals_scored', 'recent_assists', 'prev_assists')}, 14: {'feature_idx': (0, 1, 2, 3, 4, 5, 6, 7, 8, 9, 11, 12, 14, 15), 'cv_scores': array([0.68806872, 0.73848185, 0.61743751, 0.65054771, 0.73285894]), 'avg_score': 0.6854789467548268, 'feature_names': ('round', 'season_clean_sheets', 'recent_clean_sheets', 'prev_clean_sheets', 'season_expected_goals_conceded', 'recent_expected_goals_conceded', 'prev_expected_goals_conceded', 'season_goals_conceded', 'recent_goals_conceded', 'prev_goals_conceded', 'recent_goals_scored', 'prev_goals_scored', 'recent_assists', 'prev_assists')}, 15: {'feature_idx': (0, 1, 2, 3, 4, 5, 6, 7, 8, 9, 11, 12, 14, 15, 17), 'cv_scores': array([0.68128426, 0.74588766, 0.61551008, 0.64263323, 0.72227743]), 'avg_score': 0.6815185329489024, 'feature_names': ('round', 'season_clean_sheets', 'recent_clean_sheets', 'prev_clean_sheets', 'season_expected_goals_conceded', 'recent_expected_goals_conceded', 'prev_expected_goals_conceded', 'season_goals_conceded', 'recent_goals_conceded', 'prev_goals_conceded', 'recent_goals_scored', 'prev_goals_scored', 'recent_assists', 'prev_assists', 'recent_total_points')}}\n"
     ]
    },
    {
     "data": {
      "text/plain": [
       "(<Figure size 1000x1000 with 1 Axes>,\n",
       " <Axes: xlabel='Number of Features', ylabel='Performance'>)"
      ]
     },
     "execution_count": 29,
     "metadata": {},
     "output_type": "execute_result"
    },
    {
     "data": {
      "image/png": "[encoded data removed]",
      "text/plain": [
       "<Figure size 1000x1000 with 1 Axes>"
      ]
     },
     "metadata": {},
     "output_type": "display_data"
    }
   ],
   "source": [
    "f1 = make_scorer(f1_score, average='weighted') #because we have imbalanced binary classification\n",
    "\n",
    "dtc = DecisionTreeClassifier()\n",
    "sfs_range = SFS(estimator=dtc, \n",
    "           k_features=(2, 15),\n",
    "           forward=True, \n",
    "           floating=False, \n",
    "           scoring=f1,\n",
    "           cv=5)\n",
    "\n",
    "sfs_range = sfs_range.fit(x, ycl)\n",
    "\n",
    "print('best combination (ACC: %.3f): %s\\n' % (sfs_range.k_score_, sfs_range.k_feature_idx_))\n",
    "print('all subsets:\\n', sfs_range.subsets_)\n",
    "plt.rcParams[\"figure.figsize\"] = (10,10)\n",
    "plot_sfs(sfs_range.get_metric_dict(), kind='std_err')"
   ]
  },
  {
   "cell_type": "code",
   "execution_count": 31,
   "id": "d3893a3f-cc25-4146-9700-07e724f3f116",
   "metadata": {
    "tags": []
   },
   "outputs": [
    {
     "data": {
      "text/plain": [
       "Index(['round', 'recent_clean_sheets', 'prev_clean_sheets',\n",
       "       'prev_expected_goals_conceded', 'prev_goals_conceded',\n",
       "       'prev_goals_scored'],\n",
       "      dtype='object')"
      ]
     },
     "execution_count": 31,
     "metadata": {},
     "output_type": "execute_result"
    }
   ],
   "source": [
    "xnames2 = x.columns[list(sfs_range.k_feature_idx_)]\n",
    "xnames2"
   ]
  },
  {
   "cell_type": "code",
   "execution_count": 23,
   "id": "f693ac7e",
   "metadata": {
    "tags": []
   },
   "outputs": [],
   "source": [
    "X_sfs = x.loc[:,['round', 'recent_clean_sheets', 'prev_clean_sheets',\n",
    "       'prev_expected_goals_conceded', 'prev_goals_conceded', 'prev_assists']]"
   ]
  },
  {
   "cell_type": "code",
   "execution_count": 24,
   "id": "41e4e631",
   "metadata": {
    "tags": []
   },
   "outputs": [
    {
     "name": "stdout",
     "output_type": "stream",
     "text": [
      "There are 1276 samples in the training set and 319 samples in the test set\n"
     ]
    }
   ],
   "source": [
    "#Dividing data into test & train splitting 80% data for training anf 20% for test\n",
    "X_train, X_test, y_train, y_test = train_test_split(X_sfs, ycl, test_size=0.20)\n",
    "print('There are {} samples in the training set and {} samples in the test set'.format(X_train.shape[0], X_test.shape[0]))"
   ]
  },
  {
   "cell_type": "code",
   "execution_count": 25,
   "id": "e868c9e9-26d4-469c-9fac-c1bc63c78585",
   "metadata": {
    "tags": []
   },
   "outputs": [
    {
     "name": "stderr",
     "output_type": "stream",
     "text": [
      "C:\\Users\\Joseph\\anaconda3\\Lib\\site-packages\\sklearn\\metrics\\_classification.py:1469: UndefinedMetricWarning: Precision is ill-defined and being set to 0.0 in labels with no predicted samples. Use `zero_division` parameter to control this behavior.\n",
      "  _warn_prf(average, modifier, msg_start, len(result))\n"
     ]
    }
   ],
   "source": [
    "plt.rcParams[\"figure.figsize\"] = (5,5)\n",
    "\n",
    "# Making a list of all classifiers\n",
    "classifier_model = [LogisticRegression(max_iter=1000), KNeighborsClassifier(), GaussianNB(), SVC(), DecisionTreeClassifier(), RandomForestClassifier(), SGDClassifier(), AdaBoostClassifier()]\n",
    "\n",
    "# Creating empty list to store the performance details\n",
    "classifier_model_list= []\n",
    "classifier_accuracy_test = []\n",
    "classifier_accuracy_train = []\n",
    "f1score = []\n",
    "precisionscore = []\n",
    "recallscore = []\n",
    "avg_pre_rec_score = []\n",
    "cv_score = []\n",
    "\n",
    "for classifier_list in classifier_model:\n",
    "    classifier = classifier_list\n",
    " \n",
    "    # Fitting the training set into classification model\n",
    "    classifier.fit(X_train,y_train)\n",
    "    \n",
    "    # Predicting the output on test dataset\n",
    "    y_pred_test = classifier.predict(X_test)    \n",
    "    score_test = accuracy_score(y_test, y_pred_test)\n",
    "    \n",
    "    # Predicting the output on training datset\n",
    "    y_pred_train = classifier.predict(X_train) \n",
    "    score_train = accuracy_score(y_train, y_pred_train)\n",
    "    \n",
    "    # Cross Validation Score on training test\n",
    "    scores = cross_val_score(classifier, X_train,y_train, cv=10)\n",
    "    cv_score.append(scores.mean())\n",
    "    \n",
    "    #Keeping the model and accuracy score into a list\n",
    "    classifier_model_list.append(classifier_list.__class__.__name__)\n",
    "    classifier_accuracy_test.append(round(score_test,4))\n",
    "    classifier_accuracy_train.append(round(score_train,4))\n",
    "    \n",
    "    #Precision, Recall and F1 score\n",
    "    f1score.append(f1_score(y_test, y_pred_test, average ='weighted'))\n",
    "    precisionscore.append(precision_score(y_test, y_pred_test, average ='weighted'))\n",
    "    recallscore.append(recall_score(y_test, y_pred_test, average ='weighted'))\n",
    "    \n",
    "    #Calculating Average Precision Recall Score\n",
    "    try:\n",
    "        y_pred_score = classifier.decision_function(X_test)\n",
    "    except:\n",
    "        y_pred_score = classifier.predict_proba(X_test)[:,1]\n",
    "    \n",
    "    from sklearn.metrics import average_precision_score\n",
    "    average_precision = average_precision_score(y_test, y_pred_score)\n",
    "    avg_pre_rec_score.append(average_precision)\n",
    "    \n"
   ]
  },
  {
   "cell_type": "code",
   "execution_count": 26,
   "id": "c61f86cc-d42c-462f-a888-2de507c3349d",
   "metadata": {
    "tags": []
   },
   "outputs": [
    {
     "name": "stdout",
     "output_type": "stream",
     "text": [
      "\n",
      "*------------------------------    CLASSIFICATION MODEL PERFORMANCE EVALUATION      ---------------------*\n",
      "\n"
     ]
    },
    {
     "data": {
      "text/html": [
       "<div>\n",
       "<style scoped>\n",
       "    .dataframe tbody tr th:only-of-type {\n",
       "        vertical-align: middle;\n",
       "    }\n",
       "\n",
       "    .dataframe tbody tr th {\n",
       "        vertical-align: top;\n",
       "    }\n",
       "\n",
       "    .dataframe thead th {\n",
       "        text-align: right;\n",
       "    }\n",
       "</style>\n",
       "<table border=\"1\" class=\"dataframe\">\n",
       "  <thead>\n",
       "    <tr style=\"text-align: right;\">\n",
       "      <th></th>\n",
       "      <th>Model</th>\n",
       "      <th>Cross Val Score</th>\n",
       "      <th>Test Accuracy</th>\n",
       "      <th>Average_Accuracy</th>\n",
       "      <th>Precision</th>\n",
       "      <th>Recall</th>\n",
       "      <th>Avg Precision Recall</th>\n",
       "      <th>F1 Score</th>\n",
       "    </tr>\n",
       "  </thead>\n",
       "  <tbody>\n",
       "    <tr>\n",
       "      <th>5</th>\n",
       "      <td>RandomForestClassifier</td>\n",
       "      <td>0.768830</td>\n",
       "      <td>0.7962</td>\n",
       "      <td>0.782515</td>\n",
       "      <td>0.790083</td>\n",
       "      <td>0.796238</td>\n",
       "      <td>0.632504</td>\n",
       "      <td>0.792084</td>\n",
       "    </tr>\n",
       "    <tr>\n",
       "      <th>4</th>\n",
       "      <td>DecisionTreeClassifier</td>\n",
       "      <td>0.764875</td>\n",
       "      <td>0.7743</td>\n",
       "      <td>0.769587</td>\n",
       "      <td>0.770127</td>\n",
       "      <td>0.774295</td>\n",
       "      <td>0.488314</td>\n",
       "      <td>0.771913</td>\n",
       "    </tr>\n",
       "    <tr>\n",
       "      <th>3</th>\n",
       "      <td>SVC</td>\n",
       "      <td>0.713958</td>\n",
       "      <td>0.7147</td>\n",
       "      <td>0.714329</td>\n",
       "      <td>0.510844</td>\n",
       "      <td>0.714734</td>\n",
       "      <td>0.304109</td>\n",
       "      <td>0.595829</td>\n",
       "    </tr>\n",
       "    <tr>\n",
       "      <th>7</th>\n",
       "      <td>AdaBoostClassifier</td>\n",
       "      <td>0.712383</td>\n",
       "      <td>0.7147</td>\n",
       "      <td>0.713542</td>\n",
       "      <td>0.659476</td>\n",
       "      <td>0.714734</td>\n",
       "      <td>0.428815</td>\n",
       "      <td>0.626397</td>\n",
       "    </tr>\n",
       "    <tr>\n",
       "      <th>0</th>\n",
       "      <td>LogisticRegression</td>\n",
       "      <td>0.713952</td>\n",
       "      <td>0.7116</td>\n",
       "      <td>0.712776</td>\n",
       "      <td>0.510203</td>\n",
       "      <td>0.711599</td>\n",
       "      <td>0.348464</td>\n",
       "      <td>0.594302</td>\n",
       "    </tr>\n",
       "    <tr>\n",
       "      <th>1</th>\n",
       "      <td>KNeighborsClassifier</td>\n",
       "      <td>0.719371</td>\n",
       "      <td>0.6959</td>\n",
       "      <td>0.707636</td>\n",
       "      <td>0.668357</td>\n",
       "      <td>0.695925</td>\n",
       "      <td>0.408879</td>\n",
       "      <td>0.676198</td>\n",
       "    </tr>\n",
       "    <tr>\n",
       "      <th>2</th>\n",
       "      <td>GaussianNB</td>\n",
       "      <td>0.698234</td>\n",
       "      <td>0.7053</td>\n",
       "      <td>0.701767</td>\n",
       "      <td>0.628997</td>\n",
       "      <td>0.705329</td>\n",
       "      <td>0.372482</td>\n",
       "      <td>0.620740</td>\n",
       "    </tr>\n",
       "    <tr>\n",
       "      <th>6</th>\n",
       "      <td>SGDClassifier</td>\n",
       "      <td>0.529774</td>\n",
       "      <td>0.6959</td>\n",
       "      <td>0.612837</td>\n",
       "      <td>0.581175</td>\n",
       "      <td>0.695925</td>\n",
       "      <td>0.297756</td>\n",
       "      <td>0.601764</td>\n",
       "    </tr>\n",
       "  </tbody>\n",
       "</table>\n",
       "</div>"
      ],
      "text/plain": [
       "                    Model  Cross Val Score  Test Accuracy  Average_Accuracy  \\\n",
       "5  RandomForestClassifier         0.768830         0.7962          0.782515   \n",
       "4  DecisionTreeClassifier         0.764875         0.7743          0.769587   \n",
       "3                     SVC         0.713958         0.7147          0.714329   \n",
       "7      AdaBoostClassifier         0.712383         0.7147          0.713542   \n",
       "0      LogisticRegression         0.713952         0.7116          0.712776   \n",
       "1    KNeighborsClassifier         0.719371         0.6959          0.707636   \n",
       "2              GaussianNB         0.698234         0.7053          0.701767   \n",
       "6           SGDClassifier         0.529774         0.6959          0.612837   \n",
       "\n",
       "   Precision    Recall  Avg Precision Recall  F1 Score  \n",
       "5   0.790083  0.796238              0.632504  0.792084  \n",
       "4   0.770127  0.774295              0.488314  0.771913  \n",
       "3   0.510844  0.714734              0.304109  0.595829  \n",
       "7   0.659476  0.714734              0.428815  0.626397  \n",
       "0   0.510203  0.711599              0.348464  0.594302  \n",
       "1   0.668357  0.695925              0.408879  0.676198  \n",
       "2   0.628997  0.705329              0.372482  0.620740  \n",
       "6   0.581175  0.695925              0.297756  0.601764  "
      ]
     },
     "execution_count": 26,
     "metadata": {},
     "output_type": "execute_result"
    }
   ],
   "source": [
    "#Creating pandas dataframe with Model and corresponding accuracy\n",
    "#accuracy_df = pd.DataFrame({'Model':classifier_model_list , 'Test Accuracy':classifier_accuracy_test, 'Train Accuracy' :classifier_accuracy_test , 'Precision':precisionscore, 'Recall':recallscore ,'F1 Score':f1score},index=None)\n",
    "accuracy_df = pd.DataFrame({'Model':classifier_model_list , 'Cross Val Score':cv_score, 'Test Accuracy' :classifier_accuracy_test , 'Precision':precisionscore, 'Recall':recallscore ,'Avg Precision Recall':avg_pre_rec_score ,'F1 Score':f1score})\n",
    "\n",
    "# Calculating Average Accuracy = (Test + Train)/2\n",
    "accuracy_df['Average_Accuracy'] =  (accuracy_df['Cross Val Score'] + accuracy_df['Test Accuracy'] )/ 2\n",
    "\n",
    "#Arranging the Columns\n",
    "print(\"\\n*------------------------------    CLASSIFICATION MODEL PERFORMANCE EVALUATION      ---------------------*\\n\")\n",
    "accuracy_df = accuracy_df[['Model','Cross Val Score', 'Test Accuracy', 'Average_Accuracy','Precision', 'Recall','Avg Precision Recall','F1 Score']]  # This will arrange the columns in the order we want\n",
    "\n",
    "#Sorting the Columns based on Average Accuracy\n",
    "accuracy_df.sort_values('Average_Accuracy', axis=0, ascending=False, inplace=True) # Sorting the data with highest accuracy in the top\n",
    "accuracy_df\n",
    "#accuracy_df.transpose()"
   ]
  },
  {
   "cell_type": "code",
   "execution_count": null,
   "id": "97946314-027a-45c6-ab59-da515c7b9cd6",
   "metadata": {},
   "outputs": [],
   "source": []
  },
  {
   "cell_type": "code",
   "execution_count": 26,
   "id": "c56e05b0",
   "metadata": {
    "tags": []
   },
   "outputs": [],
   "source": [
    "# # Setting up the parameter grid for Random Forest and Decision Tree\n",
    "# param_grid_rf = {\n",
    "#     'n_estimators': [100, 200, 300, None],\n",
    "#     'max_features': ['sqrt', 'log2'],\n",
    "#     'max_depth': [4, 6, 8, None],\n",
    "#     'criterion': ['gini', 'entropy']\n",
    "# }\n",
    "\n",
    "\n",
    "# param_grid_dt = {\n",
    "#     'max_depth': [1, 2, 5, 10, None],\n",
    "#     'min_samples_split': [2, 5, 10, None],\n",
    "#     'criterion': ['gini', 'entropy', None]\n",
    "# }\n",
    "\n",
    "# # Creating the models\n",
    "# model_rf = RandomForestClassifier()\n",
    "# model_dt = DecisionTreeClassifier()\n",
    "\n",
    "# # Setting up GridSearchCV\n",
    "# grid_search_rf = GridSearchCV(estimator=model_rf, param_grid=param_grid_rf, cv=5, n_jobs=-1)\n",
    "# grid_search_dt = GridSearchCV(estimator=model_dt, param_grid=param_grid_dt, cv=5, n_jobs=-1)\n",
    "\n",
    "# # Fitting the models\n",
    "# print(\"Performing Grid Search for Random Forest...\")\n",
    "# grid_search_rf.fit(X_train, y_train)\n",
    "\n",
    "# print(\"Performing Grid Search for Decision Tree...\")\n",
    "# grid_search_dt.fit(X_train, y_train)\n",
    "\n",
    "# # Getting the best parameters and scores\n",
    "# print(\"Best parameters for Random Forest:\", grid_search_rf.best_params_)\n",
    "# print(\"Best score for Random Forest:\", grid_search_rf.best_score_)\n",
    "\n",
    "# print(\"Best parameters for Decision Tree:\", grid_search_dt.best_params_)\n",
    "# print(\"Best score for Decision Tree:\", grid_search_dt.best_score_)"
   ]
  },
  {
   "cell_type": "markdown",
   "id": "84f7fccb-9582-49e0-9a78-6b8e239bcccd",
   "metadata": {},
   "source": [
    "#### Grid Search CV with Random Forest Classifier"
   ]
  },
  {
   "cell_type": "code",
   "execution_count": null,
   "id": "2e793b5a-b7ae-48ca-a990-8b64a3aa21dc",
   "metadata": {
    "tags": []
   },
   "outputs": [],
   "source": [
    "# Random Forest classifier\n",
    "clf_rf = RandomForestClassifier()\n",
    "\n",
    "# Hyperparameters for the grid search\n",
    "parameters_rf = {\n",
    "    'n_estimators': [100, 200, 300, 400, 500],\n",
    "    'max_features': ['sqrt', 'log2'],\n",
    "    'max_depth': [4, 6, 8, 20, 30],\n",
    "    'criterion': ['gini', 'entropy'],\n",
    "    'min_samples_leaf':[1, 2, 4, 6, 8, 10]\n",
    "}\n",
    "\n",
    "# Make a weighted F1 score scoring object using make_scorer()\n",
    "scorer_rf = make_scorer(f1_score, average='weighted')\n",
    "\n",
    "# Perform grid search on the classifier using 'scorer_rf' as the scoring method\n",
    "# Default parameter of cv is 5\n",
    "grid_obj_rf = GridSearchCV(estimator=clf_rf, param_grid=parameters_rf, scoring=scorer_rf, n_jobs=-1, cv = 5)\n",
    "\n",
    "# Fit the grid search object to the training data and find the optimal parameters\n",
    "grid_fit_rf = grid_obj_rf.fit(X_train, y_train)\n",
    "\n",
    "# Get the estimator\n",
    "best_clf_rf = grid_fit_rf.best_estimator_\n",
    "\n",
    "# Make predictions using the unoptimized and model\n",
    "predictions_rf = (clf_rf.fit(X_train, y_train)).predict(X_test)\n",
    "best_predictions_rf = best_clf_rf.predict(X_test)\n",
    "\n",
    "# Report the before-and-after scores\n",
    "print (\"Unoptimized model\\n------\")\n",
    "print (\"Accuracy score on testing data: {:.4f}\".format(accuracy_score(y_test, predictions_rf)))\n",
    "print (\"Weighted F1 score on testing data: {:.4f}\".format(f1_score(y_test, predictions_rf, average='weighted')))\n",
    "print (\"\\nOptimized Model\\n------\")\n",
    "print (\"Final accuracy score on the testing data: {:.4f}\".format(accuracy_score(y_test, best_predictions_rf)))\n",
    "print (\"Final Weighted F1 score on the testing data: {:.4f}\".format(f1_score(y_test, best_predictions_rf, average='weighted')))\n",
    "print (best_clf_rf)\n"
   ]
  },
  {
   "cell_type": "markdown",
   "id": "e1623369-4bd1-408a-a9fb-b5943ad7212f",
   "metadata": {},
   "source": [
    "# n_jobs= -1???"
   ]
  },
  {
   "cell_type": "code",
   "execution_count": null,
   "id": "65ff3b58-190f-4b22-94ab-d1a6b58d0bf2",
   "metadata": {
    "tags": []
   },
   "outputs": [],
   "source": [
    "# Random Forest classifier\n",
    "clf_rf = RandomForestClassifier()\n",
    "\n",
    "# Hyperparameters for the grid search\n",
    "max_depth = [int(x) for x in np.linspace(10, 110, num = 11)]\n",
    "max_depth.append(None)\n",
    "# Minimum number of samples required to split a node\n",
    "#min_samples_split = [2, 5, 10]\n",
    "# Minimum number of samples required at each leaf node\n",
    "#min_samples_leaf = [1, 2, 4]\n",
    "# Method of selecting samples for training each tree\n",
    "#bootstrap = [True, False]\n",
    "\n",
    "parameters_rf = {\n",
    "    'n_estimators': [int(x) for x in np.linspace(start = 200, stop = 1000, num = 10)],\n",
    "    'max_features': ['sqrt', 'log2', None],\n",
    "    'max_depth': max_depth,\n",
    "    'criterion': ['gini', 'entropy'],\n",
    "    'min_samples_leaf':[1, 2, 4, 6, 8, 10, None],\n",
    "    'bootstrap': [True, False]}\n",
    "                  \n",
    "\n",
    "# Make a weighted F1 score scoring object using make_scorer()\n",
    "scorer_rf = make_scorer(f1_score, average='weighted')\n",
    "\n",
    "# Perform grid search on the classifier using 'scorer_rf' as the scoring method\n",
    "grid_obj_rf = GridSearchCV(estimator=clf_rf, param_grid=parameters_rf, scoring=scorer_rf, n_jobs=-1)\n",
    "\n",
    "# Fit the grid search object to the training data and find the optimal parameters\n",
    "grid_fit_rf = grid_obj_rf.fit(X_train, y_train)\n",
    "\n",
    "# Get the estimator\n",
    "best_clf_rf = grid_fit_rf.best_estimator_\n",
    "\n",
    "# Make predictions using the unoptimized and model\n",
    "predictions_rf = (clf_rf.fit(X_train, y_train)).predict(X_test)\n",
    "best_predictions_rf = best_clf_rf.predict(X_test)\n",
    "\n",
    "# Report the before-and-after scores\n",
    "print (\"Unoptimized model\\n------\")\n",
    "print (\"Accuracy score on testing data: {:.4f}\".format(accuracy_score(y_test, predictions_rf)))\n",
    "print (\"Weighted F1 score on testing data: {:.4f}\".format(f1_score(y_test, predictions_rf, average='weighted')))\n",
    "print (\"\\nOptimized Model\\n------\")\n",
    "print (\"Final accuracy score on the testing data: {:.4f}\".format(accuracy_score(y_test, best_predictions_rf)))\n",
    "print (\"Final Weighted F1 score on the testing data: {:.4f}\".format(f1_score(y_test, best_predictions_rf, average='weighted')))\n",
    "print (best_clf_rf)\n"
   ]
  },
  {
   "cell_type": "code",
   "execution_count": null,
   "id": "14e45865-8460-4940-a32f-e2f5833b3bc0",
   "metadata": {},
   "outputs": [],
   "source": []
  },
  {
   "cell_type": "markdown",
   "id": "13be6ea2-b396-46d8-9830-86a299039c97",
   "metadata": {},
   "source": [
    "#### Grid Search CV Decision Tree Classifier"
   ]
  },
  {
   "cell_type": "code",
   "execution_count": 36,
   "id": "1bd26be4-a13b-443a-92cc-12f465617188",
   "metadata": {
    "tags": []
   },
   "outputs": [
    {
     "name": "stdout",
     "output_type": "stream",
     "text": [
      "Unoptimized model\n",
      "------\n",
      "Accuracy score on testing data: 0.7618\n",
      "Weighted F1 score on testing data: 0.7452\n",
      "\n",
      "Optimized Model\n",
      "------\n",
      "Final accuracy score on the testing data: 0.7241\n",
      "Final Weighted F1 score on the testing data: 0.6922\n",
      "DecisionTreeClassifier(max_depth=10)\n"
     ]
    }
   ],
   "source": [
    "# Decision Tree classifier\n",
    "clf_dt = DecisionTreeClassifier()\n",
    "\n",
    "# Hyperparameters for the grid search\n",
    "parameters_dt = {\n",
    "    'max_depth': [1, 2, 5, 10],\n",
    "    'min_samples_split': [2, 5, 10],\n",
    "    'criterion': ['gini', 'entropy']\n",
    "}\n",
    "\n",
    "# Make a weighted F1 score scoring object using make_scorer()\n",
    "scorer_dt = make_scorer(f1_score, average='weighted')\n",
    "\n",
    "# Perform grid search on the classifier using 'scorer_dt' as the scoring method\n",
    "grid_obj_dt = GridSearchCV(estimator=clf_dt, param_grid=parameters_dt, scoring=scorer_dt, n_jobs=-1)\n",
    "\n",
    "# Fit the grid search object to the training data and find the optimal parameters\n",
    "grid_fit_dt = grid_obj_dt.fit(X_train, y_train)\n",
    "\n",
    "# Get the estimator\n",
    "best_clf_dt = grid_fit_dt.best_estimator_\n",
    "\n",
    "# Make predictions using the unoptimized and model\n",
    "predictions_dt = (clf_dt.fit(X_train, y_train)).predict(X_test)\n",
    "best_predictions_dt = best_clf_dt.predict(X_test)\n",
    "\n",
    "# Report the before-and-after scores\n",
    "print (\"Unoptimized model\\n------\")\n",
    "print (\"Accuracy score on testing data: {:.4f}\".format(accuracy_score(y_test, predictions_dt)))\n",
    "print (\"Weighted F1 score on testing data: {:.4f}\".format(f1_score(y_test, predictions_dt, average='weighted')))\n",
    "print (\"\\nOptimized Model\\n------\")\n",
    "print (\"Final accuracy score on the testing data: {:.4f}\".format(accuracy_score(y_test, best_predictions_dt)))\n",
    "print (\"Final Weighted F1 score on the testing data: {:.4f}\".format(f1_score(y_test, best_predictions_dt, average='weighted')))\n",
    "print (best_clf_dt)\n"
   ]
  },
  {
   "cell_type": "markdown",
   "id": "d9f58877-61a3-4955-8fc4-2fd27228aca0",
   "metadata": {},
   "source": [
    "# I will try the same algorithm with the whole dataset just to check if the sample we got for train set it's ok\n",
    "(if we get similar scores)"
   ]
  }
 ],
 "metadata": {
  "kernelspec": {
   "display_name": "Python 3 (ipykernel)",
   "language": "python",
   "name": "python3"
  },
  "language_info": {
   "codemirror_mode": {
    "name": "ipython",
    "version": 3
   },
   "file_extension": ".py",
   "mimetype": "text/x-python",
   "name": "python",
   "nbconvert_exporter": "python",
   "pygments_lexer": "ipython3",
   "version": "3.11.5"
  }
 },
 "nbformat": 4,
 "nbformat_minor": 5
}
